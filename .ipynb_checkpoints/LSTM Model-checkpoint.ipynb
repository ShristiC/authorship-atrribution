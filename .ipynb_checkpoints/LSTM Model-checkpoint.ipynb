{
 "cells": [
  {
   "cell_type": "markdown",
   "metadata": {},
   "source": [
    "# Data Retrieval"
   ]
  },
  {
   "cell_type": "code",
   "execution_count": 1,
   "metadata": {},
   "outputs": [
    {
     "name": "stdout",
     "output_type": "stream",
     "text": [
      "       Unnamed: 0   author  label  \\\n",
      "0               0   austen      0   \n",
      "1               1   austen      0   \n",
      "2               2   austen      0   \n",
      "3               3   austen      0   \n",
      "4               4   austen      0   \n",
      "...           ...      ...    ...   \n",
      "18888       18888  whitman     11   \n",
      "18889       18889  whitman     11   \n",
      "18890       18890  whitman     11   \n",
      "18891       18891  whitman     11   \n",
      "18892       18892  whitman     11   \n",
      "\n",
      "                                                    text  \n",
      "0      [Emma Jane Austen 1816] VOLUME I CHAPTER I Emm...  \n",
      "1      Even Miss Taylor ceased hold nominal office go...  \n",
      "2      It wedding-day beloved friend Emma sat mournfu...  \n",
      "3      The want Miss Taylor felt hour day.She recalle...  \n",
      "4      She dearly loved father, companion her.He meet...  \n",
      "...                                                  ...  \n",
      "18888  Mirages More experiences sights, stranger, you...  \n",
      "18889  The Unexpress'd How dare it?After cycles, poem...  \n",
      "18890  More evolutionary, vast, puzzling, O soul!More...  \n",
      "18891  Farewell dear mate, dear love!I'm going away, ...  \n",
      "18892  May-be mortal knob undoing, turning--so finall...  \n",
      "\n",
      "[18893 rows x 4 columns]\n"
     ]
    }
   ],
   "source": [
    "import pandas as pd\n",
    "\n",
    "def data_retrieval(filepath):\n",
    "    df = pd.read_csv(filepath)\n",
    "    return df\n",
    "\n",
    "df = data_retrieval('gutenberg_expanded.csv')\n",
    "print(df)"
   ]
  },
  {
   "cell_type": "markdown",
   "metadata": {},
   "source": [
    "# Data Analysis"
   ]
  },
  {
   "cell_type": "code",
   "execution_count": 2,
   "metadata": {},
   "outputs": [],
   "source": [
    "import numpy as np\n",
    "# determining average word count per text\n",
    "word_count = []\n",
    "for i in df['text'].values:\n",
    "    word_count.append(len(i.split()))\n",
    "word_count = np.array(word_count)"
   ]
  },
  {
   "cell_type": "code",
   "execution_count": 3,
   "metadata": {},
   "outputs": [],
   "source": [
    "def get_stats(var):\n",
    "    \"\"\"Print summary statistics for a variable of interest.\n",
    "    \n",
    "    Args:\n",
    "    var: array. Numpy array containing values for the variable of interest.\n",
    "\n",
    "    Returns:\n",
    "    None\n",
    "    \"\"\"\n",
    "    print(\"Min:\", np.min(var))\n",
    "    print(\"Max:\", np.max(var))\n",
    "    print(\"Mean:\", np.mean(var))\n",
    "    print(\"Median\", np.median(var))\n",
    "    print(\"1st percentile\", np.percentile(var, 1))\n",
    "    print(\"95th percentile\", np.percentile(var, 95))\n",
    "    print(\"99th percentile\", np.percentile(var, 99))\n",
    "    print(\"99.5th Percentile\", np.percentile(var, 99.5))\n",
    "    print(\"99.9th Percentile\", np.percentile(var, 99.9))"
   ]
  },
  {
   "cell_type": "code",
   "execution_count": 5,
   "metadata": {},
   "outputs": [
    {
     "name": "stdout",
     "output_type": "stream",
     "text": [
      "Word count statistics\n",
      "Min: 1\n",
      "Max: 875\n",
      "Mean: 55.006351558778384\n",
      "Median 49.0\n",
      "1st percentile 8.0\n",
      "95th percentile 115.0\n",
      "99th percentile 181.0799999999981\n",
      "99.5th Percentile 221.0\n",
      "99.9th Percentile 319.0800000000381\n"
     ]
    }
   ],
   "source": [
    "print(\"Word count statistics\")\n",
    "get_stats(word_count)"
   ]
  },
  {
   "cell_type": "code",
   "execution_count": 7,
   "metadata": {},
   "outputs": [
    {
     "name": "stderr",
     "output_type": "stream",
     "text": [
      "The PostScript backend does not support transparency; partially transparent artists will be rendered opaque.\n",
      "The PostScript backend does not support transparency; partially transparent artists will be rendered opaque.\n",
      "The PostScript backend does not support transparency; partially transparent artists will be rendered opaque.\n",
      "The PostScript backend does not support transparency; partially transparent artists will be rendered opaque.\n",
      "The PostScript backend does not support transparency; partially transparent artists will be rendered opaque.\n",
      "The PostScript backend does not support transparency; partially transparent artists will be rendered opaque.\n",
      "The PostScript backend does not support transparency; partially transparent artists will be rendered opaque.\n",
      "The PostScript backend does not support transparency; partially transparent artists will be rendered opaque.\n",
      "The PostScript backend does not support transparency; partially transparent artists will be rendered opaque.\n",
      "The PostScript backend does not support transparency; partially transparent artists will be rendered opaque.\n",
      "The PostScript backend does not support transparency; partially transparent artists will be rendered opaque.\n",
      "The PostScript backend does not support transparency; partially transparent artists will be rendered opaque.\n",
      "The PostScript backend does not support transparency; partially transparent artists will be rendered opaque.\n",
      "The PostScript backend does not support transparency; partially transparent artists will be rendered opaque.\n",
      "The PostScript backend does not support transparency; partially transparent artists will be rendered opaque.\n",
      "The PostScript backend does not support transparency; partially transparent artists will be rendered opaque.\n",
      "The PostScript backend does not support transparency; partially transparent artists will be rendered opaque.\n",
      "The PostScript backend does not support transparency; partially transparent artists will be rendered opaque.\n",
      "The PostScript backend does not support transparency; partially transparent artists will be rendered opaque.\n",
      "The PostScript backend does not support transparency; partially transparent artists will be rendered opaque.\n",
      "The PostScript backend does not support transparency; partially transparent artists will be rendered opaque.\n",
      "The PostScript backend does not support transparency; partially transparent artists will be rendered opaque.\n",
      "The PostScript backend does not support transparency; partially transparent artists will be rendered opaque.\n",
      "The PostScript backend does not support transparency; partially transparent artists will be rendered opaque.\n",
      "The PostScript backend does not support transparency; partially transparent artists will be rendered opaque.\n",
      "The PostScript backend does not support transparency; partially transparent artists will be rendered opaque.\n",
      "The PostScript backend does not support transparency; partially transparent artists will be rendered opaque.\n",
      "The PostScript backend does not support transparency; partially transparent artists will be rendered opaque.\n",
      "The PostScript backend does not support transparency; partially transparent artists will be rendered opaque.\n",
      "The PostScript backend does not support transparency; partially transparent artists will be rendered opaque.\n",
      "The PostScript backend does not support transparency; partially transparent artists will be rendered opaque.\n",
      "The PostScript backend does not support transparency; partially transparent artists will be rendered opaque.\n",
      "The PostScript backend does not support transparency; partially transparent artists will be rendered opaque.\n",
      "The PostScript backend does not support transparency; partially transparent artists will be rendered opaque.\n",
      "The PostScript backend does not support transparency; partially transparent artists will be rendered opaque.\n",
      "The PostScript backend does not support transparency; partially transparent artists will be rendered opaque.\n",
      "The PostScript backend does not support transparency; partially transparent artists will be rendered opaque.\n",
      "The PostScript backend does not support transparency; partially transparent artists will be rendered opaque.\n",
      "The PostScript backend does not support transparency; partially transparent artists will be rendered opaque.\n",
      "The PostScript backend does not support transparency; partially transparent artists will be rendered opaque.\n",
      "The PostScript backend does not support transparency; partially transparent artists will be rendered opaque.\n",
      "The PostScript backend does not support transparency; partially transparent artists will be rendered opaque.\n",
      "The PostScript backend does not support transparency; partially transparent artists will be rendered opaque.\n",
      "The PostScript backend does not support transparency; partially transparent artists will be rendered opaque.\n",
      "The PostScript backend does not support transparency; partially transparent artists will be rendered opaque.\n",
      "The PostScript backend does not support transparency; partially transparent artists will be rendered opaque.\n",
      "The PostScript backend does not support transparency; partially transparent artists will be rendered opaque.\n",
      "The PostScript backend does not support transparency; partially transparent artists will be rendered opaque.\n",
      "The PostScript backend does not support transparency; partially transparent artists will be rendered opaque.\n",
      "The PostScript backend does not support transparency; partially transparent artists will be rendered opaque.\n",
      "The PostScript backend does not support transparency; partially transparent artists will be rendered opaque.\n",
      "The PostScript backend does not support transparency; partially transparent artists will be rendered opaque.\n",
      "The PostScript backend does not support transparency; partially transparent artists will be rendered opaque.\n",
      "The PostScript backend does not support transparency; partially transparent artists will be rendered opaque.\n",
      "The PostScript backend does not support transparency; partially transparent artists will be rendered opaque.\n",
      "The PostScript backend does not support transparency; partially transparent artists will be rendered opaque.\n",
      "The PostScript backend does not support transparency; partially transparent artists will be rendered opaque.\n",
      "The PostScript backend does not support transparency; partially transparent artists will be rendered opaque.\n",
      "The PostScript backend does not support transparency; partially transparent artists will be rendered opaque.\n",
      "The PostScript backend does not support transparency; partially transparent artists will be rendered opaque.\n",
      "The PostScript backend does not support transparency; partially transparent artists will be rendered opaque.\n",
      "The PostScript backend does not support transparency; partially transparent artists will be rendered opaque.\n",
      "The PostScript backend does not support transparency; partially transparent artists will be rendered opaque.\n",
      "The PostScript backend does not support transparency; partially transparent artists will be rendered opaque.\n",
      "The PostScript backend does not support transparency; partially transparent artists will be rendered opaque.\n",
      "The PostScript backend does not support transparency; partially transparent artists will be rendered opaque.\n",
      "The PostScript backend does not support transparency; partially transparent artists will be rendered opaque.\n",
      "The PostScript backend does not support transparency; partially transparent artists will be rendered opaque.\n",
      "The PostScript backend does not support transparency; partially transparent artists will be rendered opaque.\n",
      "The PostScript backend does not support transparency; partially transparent artists will be rendered opaque.\n"
     ]
    },
    {
     "data": {
      "image/png": "[encoded data removed]",
      "text/plain": [
       "<Figure size 432x288 with 1 Axes>"
      ]
     },
     "metadata": {
      "needs_background": "light"
     },
     "output_type": "display_data"
    }
   ],
   "source": [
    "import seaborn as sns\n",
    "import matplotlib.pyplot as plt\n",
    "# Plot word count distribution\n",
    "sns.distplot(word_count, kde = False, bins = 70, color = 'blue').set_title(\"Word Count Distribution\")\n",
    "plt.xlabel('Excerpt Length (Words)')\n",
    "plt.ylabel('Count')\n",
    "plt.xlim(0, 500)\n",
    "plt.savefig(\"word_count.eps\")"
   ]
  },
  {
   "cell_type": "markdown",
   "metadata": {},
   "source": [
    "# Splitting the Data"
   ]
  },
  {
   "cell_type": "code",
   "execution_count": 11,
   "metadata": {},
   "outputs": [
    {
     "name": "stdout",
     "output_type": "stream",
     "text": [
      "(15114,) (15114,)\n",
      "(1889,) (1889,)\n",
      "(1890,) (1890,)\n"
     ]
    }
   ],
   "source": [
    "from sklearn.model_selection import train_test_split\n",
    "text = df['text'].values\n",
    "labels = df['label'].values\n",
    "# splitting data into 80-20 for training and testing\n",
    "text_train, text_test_val, label_train, label_test_val = train_test_split(text,labels, test_size = 0.2, random_state = 42)\n",
    "# splitting testing data into 50-50 for testing and validation\n",
    "text_test, text_val, label_test, label_val = train_test_split(text_test_val, label_test_val, test_size=.5, random_state=42)\n",
    "print(text_train.shape, label_train.shape)\n",
    "print(text_test.shape, label_test.shape)\n",
    "print(text_val.shape, label_val.shape)"
   ]
  },
  {
   "cell_type": "markdown",
   "metadata": {},
   "source": [
    "# Text Processing\n",
    "## Input"
   ]
  },
  {
   "cell_type": "code",
   "execution_count": 12,
   "metadata": {},
   "outputs": [],
   "source": [
    "from gensim.parsing.preprocessing import remove_stopwords\n",
    "\n",
    "# removing stop words\n",
    "def remove_stop_words_preprocessing(text_values):\n",
    "    for i in range(len(text_values)):\n",
    "        text_values[i] = remove_stopwords(text_values[i].lower())\n",
    "    return text_values"
   ]
  },
  {
   "cell_type": "code",
   "execution_count": 13,
   "metadata": {},
   "outputs": [],
   "source": [
    "# word embeddings\n",
    "from keras.preprocessing.text import Tokenizer\n",
    "\n",
    "def word_embeddings(text_values):\n",
    "    tokenizer = Tokenizer(num_words=5000, oov_token=\"UNK\")\n",
    "    tokenizer.fit_on_texts(text_values)\n",
    "    word_index = tokenizer.word_index\n",
    "    print('Found %s unique tokens.' % len(word_index))\n",
    "    return tokenizer"
   ]
  },
  {
   "cell_type": "code",
   "execution_count": 14,
   "metadata": {},
   "outputs": [
    {
     "name": "stdout",
     "output_type": "stream",
     "text": [
      "Found 41126 unique tokens.\n"
     ]
    }
   ],
   "source": [
    "# Removing the stop words\n",
    "X = remove_stop_words_preprocessing(text_train)\n",
    "X_val_text = remove_stop_words_preprocessing(text_val)\n",
    "X_test_text = remove_stop_words_preprocessing(text_test)\n",
    "\n",
    "# Creating a tokenization\n",
    "tokenizer = word_embeddings(X)\n",
    "\n",
    "# Tokenizing the sentences\n",
    "X_train = tokenizer.texts_to_sequences(X)\n",
    "X_val = tokenizer.texts_to_sequences(X_val_text)\n",
    "X_test = tokenizer.texts_to_sequences(X_test_text)"
   ]
  },
  {
   "cell_type": "code",
   "execution_count": 15,
   "metadata": {},
   "outputs": [
    {
     "name": "stdout",
     "output_type": "stream",
     "text": [
      "41127\n"
     ]
    }
   ],
   "source": [
    "# vocab size\n",
    "vocab_size = len(tokenizer.word_index)+1\n",
    "print(vocab_size)"
   ]
  },
  {
   "cell_type": "code",
   "execution_count": 16,
   "metadata": {},
   "outputs": [
    {
     "name": "stdout",
     "output_type": "stream",
     "text": [
      "Shape of data tensor: (15114, 80)\n"
     ]
    }
   ],
   "source": [
    "from keras.preprocessing.sequence import pad_sequences\n",
    "\n",
    "max_sequence_length = 80\n",
    "X_train = pad_sequences(X_train, padding=\"post\", maxlen=max_sequence_length)\n",
    "X_val = pad_sequences(X_val, padding=\"post\", maxlen=max_sequence_length)\n",
    "X_test = pad_sequences(X_test, padding=\"post\", maxlen=max_sequence_length)\n",
    "print('Shape of data tensor:', X_train.shape)"
   ]
  },
  {
   "cell_type": "markdown",
   "metadata": {},
   "source": [
    "## Output"
   ]
  },
  {
   "cell_type": "code",
   "execution_count": 17,
   "metadata": {},
   "outputs": [
    {
     "name": "stdout",
     "output_type": "stream",
     "text": [
      "Shape of label tensor:  (15114, 12)\n"
     ]
    }
   ],
   "source": [
    "Y_train = pd.get_dummies(label_train).values\n",
    "Y_val = pd.get_dummies(label_val).values\n",
    "Y_test = pd.get_dummies(label_test).values\n",
    "print('Shape of label tensor: ', Y_train.shape)"
   ]
  },
  {
   "cell_type": "markdown",
   "metadata": {},
   "source": [
    "# Keras Modeling"
   ]
  },
  {
   "cell_type": "code",
   "execution_count": 18,
   "metadata": {},
   "outputs": [
    {
     "name": "stdout",
     "output_type": "stream",
     "text": [
      "Model: \"sequential_1\"\n",
      "_________________________________________________________________\n",
      "Layer (type)                 Output Shape              Param #   \n",
      "=================================================================\n",
      "embedding_1 (Embedding)      (None, 80, 50)            2056350   \n",
      "_________________________________________________________________\n",
      "spatial_dropout1d_1 (Spatial (None, 80, 50)            0         \n",
      "_________________________________________________________________\n",
      "lstm_1 (LSTM)                (None, 100)               60400     \n",
      "_________________________________________________________________\n",
      "dense_1 (Dense)              (None, 12)                1212      \n",
      "=================================================================\n",
      "Total params: 2,117,962\n",
      "Trainable params: 2,117,962\n",
      "Non-trainable params: 0\n",
      "_________________________________________________________________\n"
     ]
    }
   ],
   "source": [
    "from keras.models import Sequential\n",
    "from keras import layers\n",
    "\n",
    "embedding_dim = 50\n",
    "\n",
    "model = Sequential()\n",
    "\n",
    "model.add(layers.Embedding(input_dim=vocab_size, \n",
    "                   output_dim=embedding_dim,\n",
    "                  input_length=max_sequence_length))\n",
    "model.add(layers.SpatialDropout1D(0.2))\n",
    "\n",
    "model.add(layers.LSTM(100, dropout=0.2, recurrent_dropout=0.2))\n",
    "# model.add(layers.Dense(12, activation='softmax'))\n",
    "model.add(layers.Dense(12, activation='softmax'))\n",
    "model.compile(loss='categorical_crossentropy', optimizer='adam', metrics=['accuracy'])\n",
    "model.summary()"
   ]
  },
  {
   "cell_type": "code",
   "execution_count": 19,
   "metadata": {},
   "outputs": [
    {
     "name": "stderr",
     "output_type": "stream",
     "text": [
      "C:\\Users\\shris\\Anaconda3\\lib\\site-packages\\tensorflow_core\\python\\framework\\indexed_slices.py:433: UserWarning: Converting sparse IndexedSlices to a dense Tensor of unknown shape. This may consume a large amount of memory.\n",
      "  \"Converting sparse IndexedSlices to a dense Tensor of unknown shape. \"\n"
     ]
    },
    {
     "name": "stdout",
     "output_type": "stream",
     "text": [
      "Train on 15114 samples, validate on 1890 samples\n",
      "Epoch 1/10\n",
      "15114/15114 [==============================] - 106s 7ms/step - loss: 1.6846 - accuracy: 0.4172 - val_loss: 1.4291 - val_accuracy: 0.4857\n",
      "Epoch 2/10\n",
      "15114/15114 [==============================] - 95s 6ms/step - loss: 1.4188 - accuracy: 0.5237 - val_loss: 1.2486 - val_accuracy: 0.6201\n",
      "Epoch 3/10\n",
      "15114/15114 [==============================] - 93s 6ms/step - loss: 1.4380 - accuracy: 0.5251 - val_loss: 1.1121 - val_accuracy: 0.6286\n",
      "Epoch 4/10\n",
      "15114/15114 [==============================] - 94s 6ms/step - loss: 1.0165 - accuracy: 0.6350 - val_loss: 0.8417 - val_accuracy: 0.6947\n",
      "Epoch 5/10\n",
      "15114/15114 [==============================] - 93s 6ms/step - loss: 0.8593 - accuracy: 0.6919 - val_loss: 0.7529 - val_accuracy: 0.7243\n",
      "Epoch 6/10\n",
      "15114/15114 [==============================] - 97s 6ms/step - loss: 0.7233 - accuracy: 0.7436 - val_loss: 0.6622 - val_accuracy: 0.7667\n",
      "Epoch 7/10\n",
      "15114/15114 [==============================] - 96s 6ms/step - loss: 0.5982 - accuracy: 0.7990 - val_loss: 0.5734 - val_accuracy: 0.8000\n",
      "Epoch 8/10\n",
      "15114/15114 [==============================] - 96s 6ms/step - loss: 0.4710 - accuracy: 0.8442 - val_loss: 0.4574 - val_accuracy: 0.8497\n",
      "Epoch 9/10\n",
      "15114/15114 [==============================] - 103s 7ms/step - loss: 0.3452 - accuracy: 0.8886 - val_loss: 0.3379 - val_accuracy: 0.8921\n",
      "Epoch 10/10\n",
      "15114/15114 [==============================] - 98s 7ms/step - loss: 0.2392 - accuracy: 0.9245 - val_loss: 0.2916 - val_accuracy: 0.9090\n"
     ]
    }
   ],
   "source": [
    "history = model.fit(X_train, Y_train, \n",
    "                    epochs=10, \n",
    "                    validation_data=(X_val, Y_val),\n",
    "                    batch_size=25)"
   ]
  },
  {
   "cell_type": "code",
   "execution_count": 21,
   "metadata": {},
   "outputs": [
    {
     "name": "stdout",
     "output_type": "stream",
     "text": [
      "1889/1889 [==============================] - 2s 861us/step\n",
      "[[285   0   0   0   0   0   3  11   1   0   1   0]\n",
      " [  0 613   0   0   0   0   0   0   0   0   0   0]\n",
      " [  0   0   0   0   0   0   0   0   1   3   1   2]\n",
      " [  0   0   0  34   0   4   3  13   2   0   2   0]\n",
      " [  0   0   0   1   2  13   1   1   0   0   0   0]\n",
      " [  0   0   0   0   2  21   3   4   0   0   1   0]\n",
      " [  0   0   0   3   0   0 215  11  14   0   1   1]\n",
      " [  6   0   0   1   0   0   3 193   2   0   0   0]\n",
      " [  0   0   0   1   0   0   8   1 192   0   1   3]\n",
      " [  0   0   0   0   0   0   0   0   0  23   0   9]\n",
      " [  0   1   0   0   0   0   0   0   0   0  95   0]\n",
      " [  0   0   0   0   0   0   1   1  20   3   2  50]]\n",
      "Test set\n",
      "  Loss: 0.267\n",
      "  Accuracy: 0.912\n"
     ]
    }
   ],
   "source": [
    "from sklearn.metrics import confusion_matrix\n",
    "import numpy as np\n",
    "\n",
    "accuracy = model.evaluate(X_test, Y_test)\n",
    "prediction = model.predict(X_test)\n",
    "confusion_matrix = confusion_matrix(Y_test.argmax(axis=1), prediction.argmax(axis=1))\n",
    "print(confusion_matrix)\n",
    "\n",
    "print('Test set\\n  Loss: {:0.3f}\\n  Accuracy: {:0.3f}'.format(accuracy[0],accuracy[1]))"
   ]
  },
  {
   "cell_type": "markdown",
   "metadata": {},
   "source": [
    "## Comparing Against Other Models"
   ]
  },
  {
   "cell_type": "code",
   "execution_count": null,
   "metadata": {},
   "outputs": [],
   "source": [
    "# Logistics Regression"
   ]
  },
  {
   "cell_type": "code",
   "execution_count": null,
   "metadata": {},
   "outputs": [],
   "source": [
    "# Multinomial / Binomial"
   ]
  },
  {
   "cell_type": "code",
   "execution_count": null,
   "metadata": {},
   "outputs": [],
   "source": [
    "# Ngram Distribution Testing"
   ]
  },
  {
   "cell_type": "code",
   "execution_count": null,
   "metadata": {},
   "outputs": [],
   "source": [
    "# SVM Model"
   ]
  },
  {
   "cell_type": "code",
   "execution_count": null,
   "metadata": {},
   "outputs": [],
   "source": []
  }
 ],
 "metadata": {
  "kernelspec": {
   "display_name": "Python 3",
   "language": "python",
   "name": "python3"
  },
  "language_info": {
   "codemirror_mode": {
    "name": "ipython",
    "version": 3
   },
   "file_extension": ".py",
   "mimetype": "text/x-python",
   "name": "python",
   "nbconvert_exporter": "python",
   "pygments_lexer": "ipython3",
   "version": "3.7.4"
  }
 },
 "nbformat": 4,
 "nbformat_minor": 2
}
