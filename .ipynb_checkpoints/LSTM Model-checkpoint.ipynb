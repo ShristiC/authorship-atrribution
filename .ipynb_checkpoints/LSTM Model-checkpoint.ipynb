{
 "cells": [
  {
   "cell_type": "markdown",
   "metadata": {},
   "source": [
    "# Data Retrieval"
   ]
  },
  {
   "cell_type": "code",
<<<<<<< HEAD
   "execution_count": 169,
=======
   "execution_count": 20,
>>>>>>> 5785cbce36520bb4723d5aa9f3df3bb36c115985
   "metadata": {},
   "outputs": [],
   "source": [
    "import pandas as pd\n",
    "import warnings\n",
    "warnings.filterwarnings(\"ignore\", category=DeprecationWarning) \n",
    "\n",
    "def data_retrieval(filepath):\n",
    "    df = pd.read_csv(filepath)\n",
    "    return df\n",
    "\n",
<<<<<<< HEAD
    "df = data_retrieval('expand_pretext.csv')"
=======
    "df = data_retrieval('gutenberg_expanded.csv')\n",
    "print(df)"
   ]
  },
  {
   "cell_type": "markdown",
   "metadata": {},
   "source": [
    "# Data Analysis"
   ]
  },
  {
   "cell_type": "code",
   "execution_count": 21,
   "metadata": {},
   "outputs": [],
   "source": [
    "import numpy as np\n",
    "# determining average word count per text\n",
    "word_count = []\n",
    "for i in df['text'].values:\n",
    "    word_count.append(len(i.split()))\n",
    "word_count = np.array(word_count)"
   ]
  },
  {
   "cell_type": "code",
   "execution_count": 22,
   "metadata": {},
   "outputs": [],
   "source": [
    "def get_stats(var):\n",
    "    \"\"\"Print summary statistics for a variable of interest.\n",
    "    \n",
    "    Args:\n",
    "    var: array. Numpy array containing values for the variable of interest.\n",
    "\n",
    "    Returns:\n",
    "    None\n",
    "    \"\"\"\n",
    "    print(\"Min:\", np.min(var))\n",
    "    print(\"Max:\", np.max(var))\n",
    "    print(\"Mean:\", np.mean(var))\n",
    "    print(\"Median\", np.median(var))\n",
    "    print(\"1st percentile\", np.percentile(var, 1))\n",
    "    print(\"95th percentile\", np.percentile(var, 95))\n",
    "    print(\"99th percentile\", np.percentile(var, 99))\n",
    "    print(\"99.5th Percentile\", np.percentile(var, 99.5))\n",
    "    print(\"99.9th Percentile\", np.percentile(var, 99.9))"
   ]
  },
  {
   "cell_type": "code",
   "execution_count": 23,
   "metadata": {},
   "outputs": [
    {
     "name": "stdout",
     "output_type": "stream",
     "text": [
      "Word count statistics\n",
      "Min: 1\n",
      "Max: 875\n",
      "Mean: 55.006351558778384\n",
      "Median 49.0\n",
      "1st percentile 8.0\n",
      "95th percentile 115.0\n",
      "99th percentile 181.0799999999981\n",
      "99.5th Percentile 221.0\n",
      "99.9th Percentile 319.0800000000381\n"
     ]
    }
   ],
   "source": [
    "print(\"Word count statistics\")\n",
    "get_stats(word_count)"
   ]
  },
  {
   "cell_type": "code",
   "execution_count": 24,
   "metadata": {},
   "outputs": [
    {
     "name": "stderr",
     "output_type": "stream",
     "text": [
      "The PostScript backend does not support transparency; partially transparent artists will be rendered opaque.\n",
      "The PostScript backend does not support transparency; partially transparent artists will be rendered opaque.\n",
      "The PostScript backend does not support transparency; partially transparent artists will be rendered opaque.\n",
      "The PostScript backend does not support transparency; partially transparent artists will be rendered opaque.\n",
      "The PostScript backend does not support transparency; partially transparent artists will be rendered opaque.\n",
      "The PostScript backend does not support transparency; partially transparent artists will be rendered opaque.\n",
      "The PostScript backend does not support transparency; partially transparent artists will be rendered opaque.\n",
      "The PostScript backend does not support transparency; partially transparent artists will be rendered opaque.\n",
      "The PostScript backend does not support transparency; partially transparent artists will be rendered opaque.\n",
      "The PostScript backend does not support transparency; partially transparent artists will be rendered opaque.\n",
      "The PostScript backend does not support transparency; partially transparent artists will be rendered opaque.\n",
      "The PostScript backend does not support transparency; partially transparent artists will be rendered opaque.\n",
      "The PostScript backend does not support transparency; partially transparent artists will be rendered opaque.\n",
      "The PostScript backend does not support transparency; partially transparent artists will be rendered opaque.\n",
      "The PostScript backend does not support transparency; partially transparent artists will be rendered opaque.\n",
      "The PostScript backend does not support transparency; partially transparent artists will be rendered opaque.\n",
      "The PostScript backend does not support transparency; partially transparent artists will be rendered opaque.\n",
      "The PostScript backend does not support transparency; partially transparent artists will be rendered opaque.\n",
      "The PostScript backend does not support transparency; partially transparent artists will be rendered opaque.\n",
      "The PostScript backend does not support transparency; partially transparent artists will be rendered opaque.\n",
      "The PostScript backend does not support transparency; partially transparent artists will be rendered opaque.\n",
      "The PostScript backend does not support transparency; partially transparent artists will be rendered opaque.\n",
      "The PostScript backend does not support transparency; partially transparent artists will be rendered opaque.\n",
      "The PostScript backend does not support transparency; partially transparent artists will be rendered opaque.\n",
      "The PostScript backend does not support transparency; partially transparent artists will be rendered opaque.\n",
      "The PostScript backend does not support transparency; partially transparent artists will be rendered opaque.\n",
      "The PostScript backend does not support transparency; partially transparent artists will be rendered opaque.\n",
      "The PostScript backend does not support transparency; partially transparent artists will be rendered opaque.\n",
      "The PostScript backend does not support transparency; partially transparent artists will be rendered opaque.\n",
      "The PostScript backend does not support transparency; partially transparent artists will be rendered opaque.\n",
      "The PostScript backend does not support transparency; partially transparent artists will be rendered opaque.\n",
      "The PostScript backend does not support transparency; partially transparent artists will be rendered opaque.\n",
      "The PostScript backend does not support transparency; partially transparent artists will be rendered opaque.\n",
      "The PostScript backend does not support transparency; partially transparent artists will be rendered opaque.\n",
      "The PostScript backend does not support transparency; partially transparent artists will be rendered opaque.\n",
      "The PostScript backend does not support transparency; partially transparent artists will be rendered opaque.\n",
      "The PostScript backend does not support transparency; partially transparent artists will be rendered opaque.\n",
      "The PostScript backend does not support transparency; partially transparent artists will be rendered opaque.\n",
      "The PostScript backend does not support transparency; partially transparent artists will be rendered opaque.\n",
      "The PostScript backend does not support transparency; partially transparent artists will be rendered opaque.\n",
      "The PostScript backend does not support transparency; partially transparent artists will be rendered opaque.\n",
      "The PostScript backend does not support transparency; partially transparent artists will be rendered opaque.\n",
      "The PostScript backend does not support transparency; partially transparent artists will be rendered opaque.\n",
      "The PostScript backend does not support transparency; partially transparent artists will be rendered opaque.\n",
      "The PostScript backend does not support transparency; partially transparent artists will be rendered opaque.\n",
      "The PostScript backend does not support transparency; partially transparent artists will be rendered opaque.\n",
      "The PostScript backend does not support transparency; partially transparent artists will be rendered opaque.\n",
      "The PostScript backend does not support transparency; partially transparent artists will be rendered opaque.\n",
      "The PostScript backend does not support transparency; partially transparent artists will be rendered opaque.\n",
      "The PostScript backend does not support transparency; partially transparent artists will be rendered opaque.\n",
      "The PostScript backend does not support transparency; partially transparent artists will be rendered opaque.\n",
      "The PostScript backend does not support transparency; partially transparent artists will be rendered opaque.\n",
      "The PostScript backend does not support transparency; partially transparent artists will be rendered opaque.\n",
      "The PostScript backend does not support transparency; partially transparent artists will be rendered opaque.\n",
      "The PostScript backend does not support transparency; partially transparent artists will be rendered opaque.\n",
      "The PostScript backend does not support transparency; partially transparent artists will be rendered opaque.\n",
      "The PostScript backend does not support transparency; partially transparent artists will be rendered opaque.\n",
      "The PostScript backend does not support transparency; partially transparent artists will be rendered opaque.\n",
      "The PostScript backend does not support transparency; partially transparent artists will be rendered opaque.\n",
      "The PostScript backend does not support transparency; partially transparent artists will be rendered opaque.\n",
      "The PostScript backend does not support transparency; partially transparent artists will be rendered opaque.\n",
      "The PostScript backend does not support transparency; partially transparent artists will be rendered opaque.\n",
      "The PostScript backend does not support transparency; partially transparent artists will be rendered opaque.\n",
      "The PostScript backend does not support transparency; partially transparent artists will be rendered opaque.\n",
      "The PostScript backend does not support transparency; partially transparent artists will be rendered opaque.\n",
      "The PostScript backend does not support transparency; partially transparent artists will be rendered opaque.\n",
      "The PostScript backend does not support transparency; partially transparent artists will be rendered opaque.\n",
      "The PostScript backend does not support transparency; partially transparent artists will be rendered opaque.\n",
      "The PostScript backend does not support transparency; partially transparent artists will be rendered opaque.\n",
      "The PostScript backend does not support transparency; partially transparent artists will be rendered opaque.\n"
     ]
    },
    {
     "data": {
      "image/png": "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\n",
      "text/plain": [
       "<Figure size 432x288 with 1 Axes>"
      ]
     },
     "metadata": {
      "needs_background": "light"
     },
     "output_type": "display_data"
    }
   ],
   "source": [
    "import seaborn as sns\n",
    "import matplotlib.pyplot as plt\n",
    "# Plot word count distribution\n",
    "sns.distplot(word_count, kde = False, bins = 70, color = 'blue').set_title(\"Word Count Distribution\")\n",
    "plt.xlabel('Excerpt Length (Words)')\n",
    "plt.ylabel('Count')\n",
    "plt.xlim(0, 500)\n",
    "plt.savefig(\"word_count.eps\")"
   ]
  },
  {
   "cell_type": "markdown",
   "metadata": {},
   "source": [
    "# Splitting the Data"
>>>>>>> 5785cbce36520bb4723d5aa9f3df3bb36c115985
   ]
  },
  {
   "cell_type": "code",
<<<<<<< HEAD
   "execution_count": 170,
=======
   "execution_count": 25,
>>>>>>> 5785cbce36520bb4723d5aa9f3df3bb36c115985
   "metadata": {},
   "outputs": [
    {
     "name": "stdout",
     "output_type": "stream",
     "text": [
      "(3762,) (3762,)\n",
      "(470,) (470,)\n",
      "(471,) (471,)\n"
     ]
    }
   ],
   "source": [
    "from sklearn.model_selection import train_test_split\n",
    "text = df['text'].values\n",
    "labels = df['label'].values\n",
    "# splitting data into 80-20 for training and testing\n",
    "text_train, text_test_val, label_train, label_test_val = train_test_split(text,labels, test_size = 0.2, random_state = 42)\n",
    "# splitting testing data into 50-50 for testing and validation\n",
    "text_test, text_val, label_test, label_val = train_test_split(text_test_val, label_test_val, test_size=.5, random_state=42)\n",
    "print(text_train.shape, label_train.shape)\n",
    "print(text_test.shape, label_test.shape)\n",
    "print(text_val.shape, label_val.shape)"
   ]
  },
  {
   "cell_type": "code",
<<<<<<< HEAD
   "execution_count": 117,
=======
   "execution_count": 26,
>>>>>>> 5785cbce36520bb4723d5aa9f3df3bb36c115985
   "metadata": {},
   "outputs": [],
   "source": [
    "from gensim.parsing.preprocessing import remove_stopwords\n",
    "\n",
    "# removing stop words\n",
    "def remove_stop_words_preprocessing(text_values):\n",
    "    for i in range(len(text_values)):\n",
    "        text_values[i] = remove_stopwords(text_values[i].lower())\n",
    "    return text_values"
   ]
  },
  {
   "cell_type": "code",
<<<<<<< HEAD
   "execution_count": 118,
=======
   "execution_count": 27,
>>>>>>> 5785cbce36520bb4723d5aa9f3df3bb36c115985
   "metadata": {},
   "outputs": [],
   "source": [
    "# word embeddings\n",
    "from keras.preprocessing.text import Tokenizer\n",
    "\n",
    "def word_embeddings(text_values):\n",
    "    tokenizer = Tokenizer(num_words=5000, oov_token=\"UNK\")\n",
    "    tokenizer.fit_on_texts(text_values)\n",
    "    word_index = tokenizer.word_index\n",
    "    print('Found %s unique tokens.' % len(word_index))\n",
    "    return tokenizer"
   ]
  },
  {
   "cell_type": "code",
<<<<<<< HEAD
   "execution_count": 119,
=======
   "execution_count": 28,
>>>>>>> 5785cbce36520bb4723d5aa9f3df3bb36c115985
   "metadata": {},
   "outputs": [
    {
     "name": "stdout",
     "output_type": "stream",
     "text": [
      "Found 38801 unique tokens.\n"
     ]
    }
   ],
   "source": [
    "# Removing the stop words\n",
    "X = remove_stop_words_preprocessing(text_train)\n",
    "X_val_text = remove_stop_words_preprocessing(text_val)\n",
    "X_test_text = remove_stop_words_preprocessing(text_test)\n",
    "\n",
    "# Creating a tokenization\n",
    "tokenizer = word_embeddings(X)\n",
    "\n",
    "# Tokenizing the sentences\n",
    "X_train = tokenizer.texts_to_sequences(X)\n",
    "X_val = tokenizer.texts_to_sequences(X_val_text)\n",
    "X_test = tokenizer.texts_to_sequences(X_test_text)"
   ]
  },
  {
   "cell_type": "code",
<<<<<<< HEAD
   "execution_count": 123,
=======
   "execution_count": 29,
>>>>>>> 5785cbce36520bb4723d5aa9f3df3bb36c115985
   "metadata": {},
   "outputs": [
    {
     "name": "stdout",
     "output_type": "stream",
     "text": [
      "38802\n"
     ]
    }
   ],
   "source": [
    "# vocab size\n",
    "vocab_size = len(tokenizer.word_index)+1\n",
    "print(vocab_size)"
   ]
  },
  {
   "cell_type": "code",
<<<<<<< HEAD
   "execution_count": 124,
=======
   "execution_count": 30,
>>>>>>> 5785cbce36520bb4723d5aa9f3df3bb36c115985
   "metadata": {},
   "outputs": [
    {
     "name": "stdout",
     "output_type": "stream",
     "text": [
      "Shape of data tensor: (15072, 80)\n"
     ]
    }
   ],
   "source": [
    "from keras.preprocessing.sequence import pad_sequences\n",
    "\n",
    "max_sequence_length = 80\n",
    "X_train = pad_sequences(X_train, padding=\"post\", maxlen=max_sequence_length)\n",
    "X_val = pad_sequences(X_val, padding=\"post\", maxlen=max_sequence_length)\n",
    "X_test = pad_sequences(X_test, padding=\"post\", maxlen=max_sequence_length)\n",
    "print('Shape of data tensor:', X_train.shape)"
   ]
  },
  {
   "cell_type": "code",
<<<<<<< HEAD
   "execution_count": 125,
=======
   "execution_count": 31,
>>>>>>> 5785cbce36520bb4723d5aa9f3df3bb36c115985
   "metadata": {},
   "outputs": [
    {
     "name": "stdout",
     "output_type": "stream",
     "text": [
      "Shape of label tensor:  (15072, 5)\n"
     ]
    }
   ],
   "source": [
    "Y_train = pd.get_dummies(label_train).values\n",
    "Y_val = pd.get_dummies(label_val).values\n",
    "Y_test = pd.get_dummies(label_test).values\n",
    "print('Shape of label tensor: ', Y_train.shape)"
   ]
  },
  {
   "cell_type": "code",
   "execution_count": 126,
   "metadata": {},
   "outputs": [
    {
     "data": {
      "text/plain": [
       "(15072, 80)"
      ]
     },
     "execution_count": 126,
     "metadata": {},
     "output_type": "execute_result"
    }
   ],
   "source": [
    "X_train.shape"
   ]
  },
  {
   "cell_type": "markdown",
   "metadata": {},
   "source": [
    "## Keras Model"
   ]
  },
  {
   "cell_type": "markdown",
   "metadata": {},
   "source": [
    "### Base Model"
   ]
  },
  {
   "cell_type": "code",
<<<<<<< HEAD
   "execution_count": 129,
=======
   "execution_count": 32,
   "metadata": {},
   "outputs": [
    {
     "name": "stderr",
     "output_type": "stream",
     "text": [
      "C:\\Users\\shris\\Anaconda3\\lib\\site-packages\\tensorflow_core\\python\\framework\\indexed_slices.py:433: UserWarning: Converting sparse IndexedSlices to a dense Tensor of unknown shape. This may consume a large amount of memory.\n",
      "  \"Converting sparse IndexedSlices to a dense Tensor of unknown shape. \"\n"
     ]
    }
   ],
   "source": [
    "from keras.models import load_model\n",
    "pretext_model = load_model(\"pretext_output\")"
   ]
  },
  {
   "cell_type": "code",
   "execution_count": 33,
   "metadata": {},
   "outputs": [
    {
     "name": "stdout",
     "output_type": "stream",
     "text": [
      "Model: \"sequential_3\"\n",
      "_________________________________________________________________\n",
      "Layer (type)                 Output Shape              Param #   \n",
      "=================================================================\n",
      "embedding_3 (Embedding)      (None, 80, 50)            1940100   \n",
      "_________________________________________________________________\n",
      "spatial_dropout1d_3 (Spatial (None, 80, 50)            0         \n",
      "_________________________________________________________________\n",
      "lstm_3 (LSTM)                (None, 100)               60400     \n",
      "_________________________________________________________________\n",
      "dense_3 (Dense)              (None, 5)                 505       \n",
      "_________________________________________________________________\n",
      "dense_4 (Dense)              (None, 12)                72        \n",
      "=================================================================\n",
      "Total params: 2,001,077\n",
      "Trainable params: 2,001,077\n",
      "Non-trainable params: 0\n",
      "_________________________________________________________________\n"
     ]
    }
   ],
   "source": [
    "from keras.models import Sequential\n",
    "from keras import layers\n",
    "from keras import callbacks\n",
    "\n",
    "pretext_model.add(layers.Dense(12, activation='softmax'))\n",
    "pretext_model.compile(loss='categorical_crossentropy', optimizer='adam', metrics=['accuracy'])\n",
    "pretext_model.summary()"
   ]
  },
  {
   "cell_type": "code",
   "execution_count": 34,
   "metadata": {},
   "outputs": [
    {
     "name": "stderr",
     "output_type": "stream",
     "text": [
      "C:\\Users\\shris\\Anaconda3\\lib\\site-packages\\tensorflow_core\\python\\framework\\indexed_slices.py:433: UserWarning: Converting sparse IndexedSlices to a dense Tensor of unknown shape. This may consume a large amount of memory.\n",
      "  \"Converting sparse IndexedSlices to a dense Tensor of unknown shape. \"\n"
     ]
    },
    {
     "name": "stdout",
     "output_type": "stream",
     "text": [
      "Train on 15114 samples, validate on 1890 samples\n",
      "Epoch 1/50\n",
      "15114/15114 [==============================] - 192s 13ms/step - loss: 2.1324 - accuracy: 0.2682 - val_loss: 1.9733 - val_accuracy: 0.3725\n",
      "Epoch 2/50\n",
      "15114/15114 [==============================] - 177s 12ms/step - loss: 1.7836 - accuracy: 0.4389 - val_loss: 1.6502 - val_accuracy: 0.4725\n",
      "Epoch 3/50\n",
      "15114/15114 [==============================] - 180s 12ms/step - loss: 1.6008 - accuracy: 0.4676 - val_loss: 1.5225 - val_accuracy: 0.4878\n",
      "Epoch 4/50\n",
      "15114/15114 [==============================] - 152s 10ms/step - loss: 1.5095 - accuracy: 0.4749 - val_loss: 1.4657 - val_accuracy: 0.4889\n",
      "Epoch 5/50\n",
      "15114/15114 [==============================] - 176s 12ms/step - loss: 1.4578 - accuracy: 0.4802 - val_loss: 1.4336 - val_accuracy: 0.4899\n",
      "Epoch 6/50\n",
      "15114/15114 [==============================] - 215s 14ms/step - loss: 1.4362 - accuracy: 0.4828 - val_loss: 1.4028 - val_accuracy: 0.4942\n",
      "Epoch 7/50\n",
      "15114/15114 [==============================] - 216s 14ms/step - loss: 1.3914 - accuracy: 0.4911 - val_loss: 1.3367 - val_accuracy: 0.5058\n",
      "Epoch 8/50\n",
      "15114/15114 [==============================] - 217s 14ms/step - loss: 1.2846 - accuracy: 0.5736 - val_loss: 1.1722 - val_accuracy: 0.6196\n",
      "Epoch 9/50\n",
      "15114/15114 [==============================] - 216s 14ms/step - loss: 1.1001 - accuracy: 0.6496 - val_loss: 1.0248 - val_accuracy: 0.6603\n",
      "Epoch 10/50\n",
      "15114/15114 [==============================] - 217s 14ms/step - loss: 0.9742 - accuracy: 0.6804 - val_loss: 0.9361 - val_accuracy: 0.6730\n",
      "Epoch 11/50\n",
      "15114/15114 [==============================] - 246s 16ms/step - loss: 0.8875 - accuracy: 0.6941 - val_loss: 0.8833 - val_accuracy: 0.6799\n",
      "Epoch 12/50\n",
      "15114/15114 [==============================] - 220s 15ms/step - loss: 0.8220 - accuracy: 0.7040 - val_loss: 0.8302 - val_accuracy: 0.6889\n",
      "Epoch 13/50\n",
      "15114/15114 [==============================] - 239s 16ms/step - loss: 0.7619 - accuracy: 0.7173 - val_loss: 0.7863 - val_accuracy: 0.7063\n",
      "Epoch 14/50\n",
      "15114/15114 [==============================] - 212s 14ms/step - loss: 0.7007 - accuracy: 0.7291 - val_loss: 0.7434 - val_accuracy: 0.7164\n",
      "Epoch 15/50\n",
      "15114/15114 [==============================] - 214s 14ms/step - loss: 0.6601 - accuracy: 0.7365 - val_loss: 0.7043 - val_accuracy: 0.7180\n",
      "Epoch 16/50\n",
      "15114/15114 [==============================] - 197s 13ms/step - loss: 0.6265 - accuracy: 0.7406 - val_loss: 0.7047 - val_accuracy: 0.7175\n",
      "Epoch 17/50\n",
      "15114/15114 [==============================] - 204s 13ms/step - loss: 0.6049 - accuracy: 0.7447 - val_loss: 0.6927 - val_accuracy: 0.7185\n",
      "Epoch 18/50\n",
      "15114/15114 [==============================] - 186s 12ms/step - loss: 0.5816 - accuracy: 0.7475 - val_loss: 0.6797 - val_accuracy: 0.7212\n",
      "Epoch 19/50\n",
      "15114/15114 [==============================] - 184s 12ms/step - loss: 0.5702 - accuracy: 0.7480 - val_loss: 0.6670 - val_accuracy: 0.7201\n",
      "Epoch 20/50\n",
      "15114/15114 [==============================] - 193s 13ms/step - loss: 0.5580 - accuracy: 0.7506 - val_loss: 0.6591 - val_accuracy: 0.7233\n",
      "Epoch 21/50\n",
      "15114/15114 [==============================] - 187s 12ms/step - loss: 0.5481 - accuracy: 0.7525 - val_loss: 0.6596 - val_accuracy: 0.7228\n",
      "Epoch 22/50\n",
      "15114/15114 [==============================] - 187s 12ms/step - loss: 0.5405 - accuracy: 0.7532 - val_loss: 0.6577 - val_accuracy: 0.7249\n",
      "Epoch 23/50\n",
      "15114/15114 [==============================] - 182s 12ms/step - loss: 0.5324 - accuracy: 0.7539 - val_loss: 0.6558 - val_accuracy: 0.7259\n",
      "Epoch 24/50\n",
      "15114/15114 [==============================] - 180s 12ms/step - loss: 0.5213 - accuracy: 0.7574 - val_loss: 0.6480 - val_accuracy: 0.7206\n",
      "Epoch 25/50\n",
      "15114/15114 [==============================] - 173s 11ms/step - loss: 0.5098 - accuracy: 0.7613 - val_loss: 0.6390 - val_accuracy: 0.7243\n",
      "Epoch 26/50\n",
      "15114/15114 [==============================] - 172s 11ms/step - loss: 0.4936 - accuracy: 0.7701 - val_loss: 0.6326 - val_accuracy: 0.7349\n",
      "Epoch 27/50\n",
      "15114/15114 [==============================] - 172s 11ms/step - loss: 0.4792 - accuracy: 0.7772 - val_loss: 0.6182 - val_accuracy: 0.7466\n",
      "Epoch 28/50\n",
      "15114/15114 [==============================] - 172s 11ms/step - loss: 0.4636 - accuracy: 0.7920 - val_loss: 0.6116 - val_accuracy: 0.7566\n",
      "Epoch 29/50\n",
      "15114/15114 [==============================] - 175s 12ms/step - loss: 0.4429 - accuracy: 0.8171 - val_loss: 0.5766 - val_accuracy: 0.7958\n",
      "Epoch 30/50\n",
      "15114/15114 [==============================] - 182s 12ms/step - loss: 0.4101 - accuracy: 0.8482 - val_loss: 0.5371 - val_accuracy: 0.8265\n",
      "Epoch 31/50\n",
      "15114/15114 [==============================] - 171s 11ms/step - loss: 0.3735 - accuracy: 0.8633 - val_loss: 0.5133 - val_accuracy: 0.8386\n",
      "Epoch 32/50\n",
      "15114/15114 [==============================] - 170s 11ms/step - loss: 0.3494 - accuracy: 0.8725 - val_loss: 0.5040 - val_accuracy: 0.8386\n",
      "Epoch 33/50\n",
      "15114/15114 [==============================] - 169s 11ms/step - loss: 0.3290 - accuracy: 0.8770 - val_loss: 0.4990 - val_accuracy: 0.8392\n",
      "Epoch 34/50\n",
      "15114/15114 [==============================] - 169s 11ms/step - loss: 0.3168 - accuracy: 0.8777 - val_loss: 0.4954 - val_accuracy: 0.8418\n",
      "Epoch 35/50\n",
      "15114/15114 [==============================] - 168s 11ms/step - loss: 0.3033 - accuracy: 0.8815 - val_loss: 0.4964 - val_accuracy: 0.8423\n",
      "Epoch 36/50\n",
      "15114/15114 [==============================] - 159s 10ms/step - loss: 0.2944 - accuracy: 0.8832 - val_loss: 0.4870 - val_accuracy: 0.8418\n",
      "Epoch 37/50\n",
      "15114/15114 [==============================] - 160s 11ms/step - loss: 0.2864 - accuracy: 0.8858 - val_loss: 0.4851 - val_accuracy: 0.8466\n",
      "Epoch 38/50\n",
      "15114/15114 [==============================] - 162s 11ms/step - loss: 0.2761 - accuracy: 0.8884 - val_loss: 0.4850 - val_accuracy: 0.8497\n",
      "Epoch 39/50\n",
      "15114/15114 [==============================] - 164s 11ms/step - loss: 0.2712 - accuracy: 0.8887 - val_loss: 0.4815 - val_accuracy: 0.8519\n",
      "Epoch 40/50\n",
      "15114/15114 [==============================] - 158s 10ms/step - loss: 0.2639 - accuracy: 0.8907 - val_loss: 0.4684 - val_accuracy: 0.8529\n",
      "Epoch 41/50\n",
      "15114/15114 [==============================] - 157s 10ms/step - loss: 0.2570 - accuracy: 0.8939 - val_loss: 0.4753 - val_accuracy: 0.8545\n",
      "Epoch 42/50\n",
      "15114/15114 [==============================] - 158s 10ms/step - loss: 0.2494 - accuracy: 0.8955 - val_loss: 0.4631 - val_accuracy: 0.8561\n",
      "Epoch 43/50\n",
      "15114/15114 [==============================] - 157s 10ms/step - loss: 0.2388 - accuracy: 0.8965 - val_loss: 0.4620 - val_accuracy: 0.8577\n",
      "Epoch 44/50\n",
      "15114/15114 [==============================] - 158s 10ms/step - loss: 0.2227 - accuracy: 0.9073 - val_loss: 0.4365 - val_accuracy: 0.9016\n",
      "Epoch 45/50\n",
      "15114/15114 [==============================] - 158s 10ms/step - loss: 0.2026 - accuracy: 0.9480 - val_loss: 0.4157 - val_accuracy: 0.9085\n",
      "Epoch 46/50\n",
      "15114/15114 [==============================] - 157s 10ms/step - loss: 0.1841 - accuracy: 0.9542 - val_loss: 0.4083 - val_accuracy: 0.9127\n",
      "Epoch 47/50\n",
      "15114/15114 [==============================] - 158s 10ms/step - loss: 0.1687 - accuracy: 0.9571 - val_loss: 0.4036 - val_accuracy: 0.9095\n",
      "Epoch 48/50\n",
      "15114/15114 [==============================] - 157s 10ms/step - loss: 0.1619 - accuracy: 0.9579 - val_loss: 0.4055 - val_accuracy: 0.9122\n",
      "Epoch 49/50\n",
      "15114/15114 [==============================] - 157s 10ms/step - loss: 0.1494 - accuracy: 0.9585 - val_loss: 0.4074 - val_accuracy: 0.9138\n",
      "Epoch 50/50\n",
      "15114/15114 [==============================] - 159s 11ms/step - loss: 0.1404 - accuracy: 0.9604 - val_loss: 0.4020 - val_accuracy: 0.9095\n"
     ]
    }
   ],
   "source": [
    "history = pretext_model.fit(X_train, Y_train, \n",
    "                    epochs=50, \n",
    "                    validation_data=(X_val, Y_val),\n",
    "                    batch_size=25)"
   ]
  },
  {
   "cell_type": "code",
   "execution_count": 35,
   "metadata": {},
   "outputs": [
    {
     "name": "stdout",
     "output_type": "stream",
     "text": [
      "1889/1889 [==============================] - 1s 699us/step\n",
      "[[287   0   0   1   0   0   2  10   1   0   0   0]\n",
      " [  0 613   0   0   0   0   0   0   0   0   0   0]\n",
      " [  0   0   0   1   0   2   0   0   0   0   0   4]\n",
      " [  0   0   0  49   0   0   5   3   1   0   0   0]\n",
      " [  0   0   0  17   0   0   1   0   0   0   0   0]\n",
      " [  0   0   0   7   0  20   0   2   0   0   0   2]\n",
      " [  0   0   0   3   0   0 229   8   5   0   0   0]\n",
      " [  3   0   0   0   0   0   3 197   2   0   0   0]\n",
      " [  3   0   0   3   0   0   4   4 187   0   1   4]\n",
      " [  0   0   0   0   0   1   0   1   1   0   0  29]\n",
      " [  0   0   0   0   0   0   0   1   1   0  94   0]\n",
      " [  2   0   0   3   0   0   2   0   6   0   0  64]]\n",
      "Test set\n",
      "  Loss: 0.328\n",
      "  Accuracy: 0.921\n"
     ]
    }
   ],
   "source": [
    "pretext_model.save(\"author_lstm_with_pretext_results\")\n",
    "from sklearn.metrics import confusion_matrix\n",
    "import numpy as np\n",
    "\n",
    "accuracy = pretext_model.evaluate(X_test, Y_test)\n",
    "prediction = pretext_model.predict(X_test)\n",
    "confusion_matrix = confusion_matrix(Y_test.argmax(axis=1), prediction.argmax(axis=1))\n",
    "print(confusion_matrix)\n",
    "\n",
    "print('Test set\\n  Loss: {:0.3f}\\n  Accuracy: {:0.3f}'.format(accuracy[0],accuracy[1]))"
   ]
  },
  {
   "cell_type": "code",
   "execution_count": 37,
>>>>>>> 5785cbce36520bb4723d5aa9f3df3bb36c115985
   "metadata": {},
   "outputs": [
    {
     "name": "stdout",
     "output_type": "stream",
     "text": [
      "Model: \"sequential_6\"\n",
      "_________________________________________________________________\n",
      "Layer (type)                 Output Shape              Param #   \n",
      "=================================================================\n",
      "embedding_6 (Embedding)      (None, 80, 50)            1940100   \n",
      "_________________________________________________________________\n",
      "spatial_dropout1d_6 (Spatial (None, 80, 50)            0         \n",
      "_________________________________________________________________\n",
<<<<<<< HEAD
      "lstm_11 (LSTM)               (None, 100)               60400     \n",
      "_________________________________________________________________\n",
      "dense_15 (Dense)             (None, 5)                 505       \n",
=======
      "lstm_3 (LSTM)                (None, 100)               60400     \n",
      "_________________________________________________________________\n",
      "dense_5 (Dense)              (None, 12)                1212      \n",
>>>>>>> 5785cbce36520bb4723d5aa9f3df3bb36c115985
      "=================================================================\n",
      "Total params: 2,001,005\n",
      "Trainable params: 2,001,005\n",
      "Non-trainable params: 0\n",
      "_________________________________________________________________\n"
     ]
    }
   ],
   "source": [
    "from keras.models import Sequential\n",
    "from keras import layers\n",
    "from keras import callbacks\n",
    "\n",
    "embedding_dim = 50\n",
    "\n",
    "callback = callbacks.EarlyStopping(monitor='loss', patience=3)\n",
    "model = Sequential()\n",
    "model.add(layers.Embedding(input_dim=vocab_size, \n",
    "                   output_dim=embedding_dim,\n",
    "                  input_length=max_sequence_length))\n",
    "model.add(layers.SpatialDropout1D(0.2))\n",
    "\n",
    "model.add(layers.LSTM(100, dropout=0.2, recurrent_dropout=0.2))\n",
<<<<<<< HEAD
    "\n",
    "model.add(layers.Dense(5, activation='softmax'))\n",
=======
    "model.add(layers.Dense(12, activation='softmax'))\n",
>>>>>>> 5785cbce36520bb4723d5aa9f3df3bb36c115985
    "model.compile(loss='categorical_crossentropy', optimizer='adam', metrics=['accuracy'])\n",
    "model.summary()"
   ]
  },
  {
   "cell_type": "code",
<<<<<<< HEAD
   "execution_count": 130,
=======
   "execution_count": 38,
>>>>>>> 5785cbce36520bb4723d5aa9f3df3bb36c115985
   "metadata": {},
   "outputs": [
    {
     "name": "stdout",
     "output_type": "stream",
     "text": [
<<<<<<< HEAD
      "Epoch 1/15\n",
      "603/603 [==============================] - 55s 88ms/step - loss: 1.6104 - accuracy: 0.2016 - val_loss: 1.6092 - val_accuracy: 0.2027\n",
      "Epoch 2/15\n",
      "603/603 [==============================] - 53s 88ms/step - loss: 1.6040 - accuracy: 0.2327 - val_loss: 1.6108 - val_accuracy: 0.2005\n",
      "Epoch 3/15\n",
      "603/603 [==============================] - 59s 98ms/step - loss: 1.5639 - accuracy: 0.2610 - val_loss: 1.6288 - val_accuracy: 0.2164\n",
      "Epoch 4/15\n",
      "603/603 [==============================] - 56s 92ms/step - loss: 1.4727 - accuracy: 0.3159 - val_loss: 1.6740 - val_accuracy: 0.2000\n",
      "Epoch 5/15\n",
      "603/603 [==============================] - 55s 91ms/step - loss: 1.3985 - accuracy: 0.3401 - val_loss: 1.7255 - val_accuracy: 0.2074\n",
      "Epoch 6/15\n",
      "603/603 [==============================] - 55s 90ms/step - loss: 1.3424 - accuracy: 0.3649 - val_loss: 1.7914 - val_accuracy: 0.2080\n",
      "Epoch 7/15\n",
      "603/603 [==============================] - 54s 89ms/step - loss: 1.2889 - accuracy: 0.4088 - val_loss: 1.9108 - val_accuracy: 0.2133\n",
      "Epoch 8/15\n",
      "603/603 [==============================] - 51s 84ms/step - loss: 1.2549 - accuracy: 0.4185 - val_loss: 1.9172 - val_accuracy: 0.2133\n",
      "Epoch 9/15\n",
      "603/603 [==============================] - 52s 86ms/step - loss: 1.2192 - accuracy: 0.4442 - val_loss: 1.9132 - val_accuracy: 0.2027\n",
      "Epoch 10/15\n",
      "603/603 [==============================] - 51s 85ms/step - loss: 1.1847 - accuracy: 0.4572 - val_loss: 1.9914 - val_accuracy: 0.2080\n",
      "Epoch 11/15\n",
      "603/603 [==============================] - 52s 85ms/step - loss: 1.1515 - accuracy: 0.4837 - val_loss: 2.0696 - val_accuracy: 0.2095\n",
      "Epoch 12/15\n",
      "603/603 [==============================] - 51s 85ms/step - loss: 1.1117 - accuracy: 0.5007 - val_loss: 2.1551 - val_accuracy: 0.2085\n",
      "Epoch 13/15\n",
      "603/603 [==============================] - 51s 85ms/step - loss: 1.0849 - accuracy: 0.5180 - val_loss: 2.1045 - val_accuracy: 0.2111\n",
      "Epoch 14/15\n",
      "603/603 [==============================] - 51s 85ms/step - loss: 1.0471 - accuracy: 0.5438 - val_loss: 2.1805 - val_accuracy: 0.2106\n",
      "Epoch 15/15\n",
      "603/603 [==============================] - 51s 85ms/step - loss: 1.0107 - accuracy: 0.5600 - val_loss: 2.3212 - val_accuracy: 0.1963\n"
=======
      "Train on 15114 samples, validate on 1890 samples\n",
      "Epoch 1/20\n",
      "15114/15114 [==============================] - 96s 6ms/step - loss: 1.7024 - accuracy: 0.4209 - val_loss: 1.3779 - val_accuracy: 0.5111\n",
      "Epoch 2/20\n",
      "15114/15114 [==============================] - 98s 7ms/step - loss: 1.5640 - accuracy: 0.4645 - val_loss: 1.3729 - val_accuracy: 0.5265\n",
      "Epoch 3/20\n",
      "15114/15114 [==============================] - 92s 6ms/step - loss: 1.3066 - accuracy: 0.5369 - val_loss: 1.2581 - val_accuracy: 0.5333\n",
      "Epoch 4/20\n",
      "15114/15114 [==============================] - 92s 6ms/step - loss: 1.2282 - accuracy: 0.5498 - val_loss: 1.1527 - val_accuracy: 0.5772\n",
      "Epoch 5/20\n",
      "15114/15114 [==============================] - 92s 6ms/step - loss: 1.1698 - accuracy: 0.5689 - val_loss: 1.1254 - val_accuracy: 0.5778\n",
      "Epoch 6/20\n",
      "15114/15114 [==============================] - 92s 6ms/step - loss: 1.1209 - accuracy: 0.5779 - val_loss: 1.2443 - val_accuracy: 0.5291\n",
      "Epoch 7/20\n",
      "15114/15114 [==============================] - 93s 6ms/step - loss: 1.0462 - accuracy: 0.6178 - val_loss: 0.9375 - val_accuracy: 0.6561\n",
      "Epoch 8/20\n",
      "15114/15114 [==============================] - 93s 6ms/step - loss: 0.9082 - accuracy: 0.6794 - val_loss: 0.8218 - val_accuracy: 0.7138\n",
      "Epoch 9/20\n",
      "15114/15114 [==============================] - 94s 6ms/step - loss: 0.8114 - accuracy: 0.7154 - val_loss: 0.7375 - val_accuracy: 0.7561\n",
      "Epoch 10/20\n",
      "15114/15114 [==============================] - 92s 6ms/step - loss: 0.7076 - accuracy: 0.7606 - val_loss: 0.6861 - val_accuracy: 0.7862\n",
      "Epoch 11/20\n",
      "15114/15114 [==============================] - 92s 6ms/step - loss: 0.6208 - accuracy: 0.7969 - val_loss: 0.5917 - val_accuracy: 0.8090\n",
      "Epoch 12/20\n",
      "15114/15114 [==============================] - 92s 6ms/step - loss: 0.5258 - accuracy: 0.8348 - val_loss: 0.5260 - val_accuracy: 0.8386\n",
      "Epoch 13/20\n",
      "15114/15114 [==============================] - 92s 6ms/step - loss: 0.4426 - accuracy: 0.8624 - val_loss: 0.4613 - val_accuracy: 0.8651\n",
      "Epoch 14/20\n",
      "15114/15114 [==============================] - 93s 6ms/step - loss: 0.3790 - accuracy: 0.8833 - val_loss: 0.4099 - val_accuracy: 0.8714\n",
      "Epoch 15/20\n",
      "15114/15114 [==============================] - 92s 6ms/step - loss: 0.3250 - accuracy: 0.8992 - val_loss: 0.3711 - val_accuracy: 0.8825\n",
      "Epoch 16/20\n",
      "15114/15114 [==============================] - 92s 6ms/step - loss: 0.2512 - accuracy: 0.9224 - val_loss: 0.3410 - val_accuracy: 0.8921\n",
      "Epoch 17/20\n",
      "15114/15114 [==============================] - 92s 6ms/step - loss: 0.2009 - accuracy: 0.9359 - val_loss: 0.2967 - val_accuracy: 0.9095\n",
      "Epoch 18/20\n",
      "15114/15114 [==============================] - 92s 6ms/step - loss: 0.1597 - accuracy: 0.9477 - val_loss: 0.2892 - val_accuracy: 0.9132\n",
      "Epoch 19/20\n",
      "15114/15114 [==============================] - 1484s 98ms/step - loss: 0.1290 - accuracy: 0.9582 - val_loss: 0.2829 - val_accuracy: 0.9185\n",
      "Epoch 20/20\n",
      "15114/15114 [==============================] - 74s 5ms/step - loss: 0.1048 - accuracy: 0.9661 - val_loss: 0.2507 - val_accuracy: 0.9349\n"
>>>>>>> 5785cbce36520bb4723d5aa9f3df3bb36c115985
     ]
    }
   ],
   "source": [
    "history = model.fit(X_train, Y_train, \n",
    "                    epochs=20, \n",
    "                    validation_data=(X_val, Y_val),\n",
    "                    batch_size=25)"
<<<<<<< HEAD
   ]
  },
  {
   "cell_type": "code",
   "execution_count": 131,
   "metadata": {},
   "outputs": [
    {
     "data": {
      "image/png": "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\n",
      "text/plain": [
       "<Figure size 432x288 with 1 Axes>"
      ]
     },
     "metadata": {
      "needs_background": "light"
     },
     "output_type": "display_data"
    }
   ],
   "source": [
    "import keras\n",
    "from matplotlib import pyplot as plt\n",
    "plt.plot(history.history['accuracy'])\n",
    "plt.plot(history.history['val_accuracy'])\n",
    "plt.title('model accuracy')\n",
    "plt.ylabel('accuracy')\n",
    "plt.xlabel('epoch')\n",
    "plt.legend(['train', 'val'], loc='upper left')\n",
    "plt.show()"
   ]
  },
  {
   "cell_type": "code",
   "execution_count": 162,
   "metadata": {},
   "outputs": [
    {
     "data": {
      "image/png": "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\n",
      "text/plain": [
       "<Figure size 432x288 with 1 Axes>"
      ]
     },
     "metadata": {
      "needs_background": "light"
     },
     "output_type": "display_data"
    }
   ],
   "source": [
    "import keras\n",
    "from matplotlib import pyplot as plt\n",
    "plt.plot(history.history['loss'])\n",
    "plt.plot(history.history['val_loss'])\n",
    "plt.title('model loss')\n",
    "plt.ylabel('loss')\n",
    "plt.xlabel('epoch')\n",
    "plt.legend(['train', 'val'], loc='upper left')\n",
    "plt.show()"
=======
>>>>>>> 5785cbce36520bb4723d5aa9f3df3bb36c115985
   ]
  },
  {
   "cell_type": "code",
<<<<<<< HEAD
   "execution_count": 132,
=======
   "execution_count": 39,
>>>>>>> 5785cbce36520bb4723d5aa9f3df3bb36c115985
   "metadata": {},
   "outputs": [
    {
     "name": "stdout",
     "output_type": "stream",
     "text": [
<<<<<<< HEAD
      "INFO:tensorflow:Assets written to: pretext5-15_results/assets\n",
      "59/59 [==============================] - 1s 10ms/step - loss: 2.4797 - accuracy: 0.1921\n",
      "[[ 66 113  37  24 114]\n",
      " [ 69 118  43  30 110]\n",
      " [ 78 115  44  22 126]\n",
      " [ 76 113  44  20 137]\n",
      " [ 63 137  38  33 114]]\n",
      "Test set\n",
      "  Loss: 2.480\n",
      "  Accuracy: 0.192\n"
=======
      "1889/1889 [==============================] - 1s 489us/step\n",
      "[[285   0   0   1   0   5   2   7   0   0   0   1]\n",
      " [  0 613   0   0   0   0   0   0   0   0   0   0]\n",
      " [  0   0   0   0   0   0   0   0   1   5   1   0]\n",
      " [  1   0   0  43   0   3   4   5   1   0   1   0]\n",
      " [  0   0   0   2  10   4   1   1   0   0   0   0]\n",
      " [  0   0   0   0   0  25   4   2   0   0   0   0]\n",
      " [  0   0   0   1   0   7 235   0   2   0   0   0]\n",
      " [  2   0   0   1   0   1   4 196   1   0   0   0]\n",
      " [  4   0   0   0   0   3   8   0 182   0   3   6]\n",
      " [  0   0   0   0   0   0   0   0   0  31   0   1]\n",
      " [  0   0   0   1   0   0   2   0   0   0  93   0]\n",
      " [  0   0   0   0   0   0   1   1   7   0   3  65]]\n",
      "Test set\n",
      "  Loss: 0.214\n",
      "  Accuracy: 0.941\n"
>>>>>>> 5785cbce36520bb4723d5aa9f3df3bb36c115985
     ]
    }
   ],
   "source": [
    "model.save(\"pretext5-15_results\")\n",
    "from sklearn.metrics import confusion_matrix\n",
    "import numpy as np\n",
    "\n",
    "accuracy = model.evaluate(X_test, Y_test)\n",
    "prediction = model.predict(X_test)\n",
    "confusion_matrix = confusion_matrix(Y_test.argmax(axis=1), prediction.argmax(axis=1))\n",
    "print(confusion_matrix)\n",
    "\n",
    "print('Test set\\n  Loss: {:0.3f}\\n  Accuracy: {:0.3f}'.format(accuracy[0],accuracy[1]))"
   ]
  },
  {
   "cell_type": "markdown",
   "metadata": {},
   "source": [
    "### Transfer"
   ]
  },
  {
   "cell_type": "code",
   "execution_count": 133,
   "metadata": {},
   "outputs": [],
   "source": [
    "from keras.models import load_model\n",
    "pretext_model = load_model(\"pretext5-15_results\")"
   ]
  },
  {
   "cell_type": "code",
   "execution_count": 134,
   "metadata": {},
   "outputs": [
    {
     "name": "stdout",
     "output_type": "stream",
     "text": [
      "Model: \"sequential_6\"\n",
      "_________________________________________________________________\n",
      "Layer (type)                 Output Shape              Param #   \n",
      "=================================================================\n",
      "embedding_6 (Embedding)      (None, 80, 50)            1940100   \n",
      "_________________________________________________________________\n",
      "spatial_dropout1d_6 (Spatial (None, 80, 50)            0         \n",
      "_________________________________________________________________\n",
      "lstm_11 (LSTM)               (None, 100)               60400     \n",
      "_________________________________________________________________\n",
      "dense_15 (Dense)             (None, 5)                 505       \n",
      "_________________________________________________________________\n",
      "dense_16 (Dense)             (None, 12)                72        \n",
      "=================================================================\n",
      "Total params: 2,001,077\n",
      "Trainable params: 2,001,077\n",
      "Non-trainable params: 0\n",
      "_________________________________________________________________\n"
     ]
    }
   ],
   "source": [
    "from keras.models import Sequential\n",
    "from keras import layers\n",
    "from keras import callbacks\n",
    "\n",
    "pretext_model.add(layers.Dense(12, activation='softmax'))\n",
    "pretext_model.compile(loss='categorical_crossentropy', optimizer='adam', metrics=['accuracy'])\n",
    "pretext_model.summary()"
   ]
  },
  {
   "cell_type": "code",
   "execution_count": 136,
   "metadata": {},
   "outputs": [],
   "source": [
    "# Freeze the pre-trained layers\n",
    "\n",
    "for layer in pretext_model.layers[:4]:\n",
    "    layer.trainable=False"
   ]
  },
  {
   "cell_type": "code",
   "execution_count": 135,
   "metadata": {},
   "outputs": [],
   "source": [
    "df = data_retrieval('gutenberg_expanded.csv')"
   ]
  },
  {
   "cell_type": "code",
   "execution_count": 137,
   "metadata": {},
   "outputs": [
    {
     "name": "stdout",
     "output_type": "stream",
     "text": [
      "Found 41126 unique tokens.\n",
      "41127\n",
      "Shape of data tensor: (15114, 80)\n",
      "Shape of label tensor:  (15114, 12)\n"
     ]
    }
   ],
   "source": [
    "from sklearn.model_selection import train_test_split\n",
    "text = df['text'].values\n",
    "labels = df['label'].values\n",
    "# splitting data into 80-20 for training and testing\n",
    "text_train, text_test_val, label_train, label_test_val = train_test_split(text,labels, test_size = 0.2, random_state = 42)\n",
    "# splitting testing data into 50-50 for testing and validation\n",
    "text_test, text_val, label_test, label_val = train_test_split(text_test_val, label_test_val, test_size=.5, random_state=42)\n",
    "\n",
    "from gensim.parsing.preprocessing import remove_stopwords\n",
    "\n",
    "# removing stop words\n",
    "def remove_stop_words_preprocessing(text_values):\n",
    "    for i in range(len(text_values)):\n",
    "        text_values[i] = remove_stopwords(text_values[i].lower())\n",
    "    return text_values\n",
    "\n",
    "# word embeddings\n",
    "from keras.preprocessing.text import Tokenizer\n",
    "\n",
    "def word_embeddings(text_values):\n",
    "    tokenizer = Tokenizer(num_words=5000, oov_token=\"UNK\")\n",
    "    tokenizer.fit_on_texts(text_values)\n",
    "    word_index = tokenizer.word_index\n",
    "    print('Found %s unique tokens.' % len(word_index))\n",
    "    return tokenizer\n",
    "\n",
    "# Removing the stop words\n",
    "X = remove_stop_words_preprocessing(text_train)\n",
    "X_val_text = remove_stop_words_preprocessing(text_val)\n",
    "X_test_text = remove_stop_words_preprocessing(text_test)\n",
    "\n",
    "# Creating a tokenization\n",
    "tokenizer = word_embeddings(X)\n",
    "\n",
    "# Tokenizing the sentences\n",
    "X_train = tokenizer.texts_to_sequences(X)\n",
    "X_val = tokenizer.texts_to_sequences(X_val_text)\n",
    "X_test = tokenizer.texts_to_sequences(X_test_text)\n",
    "\n",
    "# vocab size\n",
    "vocab_size = len(tokenizer.word_index)+1\n",
    "print(vocab_size)\n",
    "\n",
    "from keras.preprocessing.sequence import pad_sequences\n",
    "\n",
    "max_sequence_length = 80\n",
    "X_train = pad_sequences(X_train, padding=\"post\", maxlen=max_sequence_length)\n",
    "X_val = pad_sequences(X_val, padding=\"post\", maxlen=max_sequence_length)\n",
    "X_test = pad_sequences(X_test, padding=\"post\", maxlen=max_sequence_length)\n",
    "print('Shape of data tensor:', X_train.shape)\n",
    "\n",
    "Y_train = pd.get_dummies(label_train).values\n",
    "Y_val = pd.get_dummies(label_val).values\n",
    "Y_test = pd.get_dummies(label_test).values\n",
    "print('Shape of label tensor: ', Y_train.shape)"
   ]
  },
  {
   "cell_type": "code",
   "execution_count": 138,
   "metadata": {
    "collapsed": true,
    "jupyter": {
     "outputs_hidden": true
    }
   },
   "outputs": [
    {
     "name": "stdout",
     "output_type": "stream",
     "text": [
      "Epoch 1/50\n",
      "605/605 [==============================] - 52s 83ms/step - loss: 2.2124 - accuracy: 0.2304 - val_loss: 2.0400 - val_accuracy: 0.3270\n",
      "Epoch 2/50\n",
      "605/605 [==============================] - 52s 87ms/step - loss: 2.0324 - accuracy: 0.3155 - val_loss: 2.0164 - val_accuracy: 0.3270\n",
      "Epoch 3/50\n",
      "605/605 [==============================] - 52s 86ms/step - loss: 2.0205 - accuracy: 0.3101 - val_loss: 2.0133 - val_accuracy: 0.3270\n",
      "Epoch 4/50\n",
      "605/605 [==============================] - 51s 84ms/step - loss: 2.0119 - accuracy: 0.3158 - val_loss: 2.0125 - val_accuracy: 0.3270\n",
      "Epoch 5/50\n",
      "605/605 [==============================] - 49s 81ms/step - loss: 2.0253 - accuracy: 0.3086 - val_loss: 2.0122 - val_accuracy: 0.3270\n",
      "Epoch 6/50\n",
      "605/605 [==============================] - 49s 81ms/step - loss: 2.0136 - accuracy: 0.3168 - val_loss: 2.0118 - val_accuracy: 0.3270\n",
      "Epoch 7/50\n",
      "605/605 [==============================] - 50s 83ms/step - loss: 1.9970 - accuracy: 0.3213 - val_loss: 2.0120 - val_accuracy: 0.3270\n",
      "Epoch 8/50\n",
      "605/605 [==============================] - 55s 91ms/step - loss: 2.0148 - accuracy: 0.3104 - val_loss: 2.0112 - val_accuracy: 0.3270\n",
      "Epoch 9/50\n",
      "605/605 [==============================] - 53s 87ms/step - loss: 2.0239 - accuracy: 0.3082 - val_loss: 1.9947 - val_accuracy: 0.3270\n",
      "Epoch 10/50\n",
      "605/605 [==============================] - 54s 89ms/step - loss: 1.9765 - accuracy: 0.3152 - val_loss: 1.8693 - val_accuracy: 0.3751\n",
      "Epoch 11/50\n",
      "605/605 [==============================] - 51s 84ms/step - loss: 1.8664 - accuracy: 0.3734 - val_loss: 1.8180 - val_accuracy: 0.3947\n",
      "Epoch 12/50\n",
      "605/605 [==============================] - 51s 85ms/step - loss: 1.8758 - accuracy: 0.3708 - val_loss: 1.8319 - val_accuracy: 0.3894\n",
      "Epoch 13/50\n",
      "605/605 [==============================] - 51s 84ms/step - loss: 1.8224 - accuracy: 0.3797 - val_loss: 1.8053 - val_accuracy: 0.3926\n",
      "Epoch 14/50\n",
      "605/605 [==============================] - 51s 84ms/step - loss: 1.7721 - accuracy: 0.3987 - val_loss: 1.6982 - val_accuracy: 0.4095\n",
      "Epoch 15/50\n",
      "605/605 [==============================] - 51s 84ms/step - loss: 1.6885 - accuracy: 0.4189 - val_loss: 1.5049 - val_accuracy: 0.4698\n",
      "Epoch 16/50\n",
      "605/605 [==============================] - 51s 85ms/step - loss: 1.4557 - accuracy: 0.5038 - val_loss: 1.3526 - val_accuracy: 0.5307\n",
      "Epoch 17/50\n",
      "605/605 [==============================] - 51s 84ms/step - loss: 1.3235 - accuracy: 0.5564 - val_loss: 1.2097 - val_accuracy: 0.5942\n",
      "Epoch 18/50\n",
      "605/605 [==============================] - 51s 85ms/step - loss: 1.2072 - accuracy: 0.5954 - val_loss: 1.1413 - val_accuracy: 0.6005\n",
      "Epoch 19/50\n",
      "605/605 [==============================] - 51s 85ms/step - loss: 1.1228 - accuracy: 0.6109 - val_loss: 1.0980 - val_accuracy: 0.5947\n",
      "Epoch 20/50\n",
      "605/605 [==============================] - 51s 84ms/step - loss: 1.0541 - accuracy: 0.6203 - val_loss: 1.0627 - val_accuracy: 0.6011\n",
      "Epoch 21/50\n",
      "605/605 [==============================] - 51s 84ms/step - loss: 1.0494 - accuracy: 0.6055 - val_loss: 1.0459 - val_accuracy: 0.6079\n",
      "Epoch 22/50\n",
      "605/605 [==============================] - 50s 83ms/step - loss: 1.0168 - accuracy: 0.6255 - val_loss: 1.1128 - val_accuracy: 0.5513\n",
      "Epoch 23/50\n",
      "605/605 [==============================] - 730s 1s/step - loss: 1.0683 - accuracy: 0.5737 - val_loss: 1.0266 - val_accuracy: 0.6233\n",
      "Epoch 24/50\n",
      "605/605 [==============================] - 51s 84ms/step - loss: 1.0001 - accuracy: 0.6207 - val_loss: 0.9135 - val_accuracy: 0.6730\n",
      "Epoch 25/50\n",
      "605/605 [==============================] - 51s 84ms/step - loss: 0.8769 - accuracy: 0.6826 - val_loss: 0.8693 - val_accuracy: 0.6852\n",
      "Epoch 26/50\n",
      "605/605 [==============================] - 51s 84ms/step - loss: 0.8070 - accuracy: 0.7011 - val_loss: 0.8518 - val_accuracy: 0.6852\n",
      "Epoch 27/50\n",
      "605/605 [==============================] - 51s 84ms/step - loss: 0.7846 - accuracy: 0.7050 - val_loss: 0.8296 - val_accuracy: 0.6873\n",
      "Epoch 28/50\n",
      "605/605 [==============================] - 50s 83ms/step - loss: 0.7625 - accuracy: 0.7067 - val_loss: 0.8421 - val_accuracy: 0.6868\n",
      "Epoch 29/50\n",
      "605/605 [==============================] - 51s 84ms/step - loss: 0.7357 - accuracy: 0.7158 - val_loss: 0.8138 - val_accuracy: 0.6857\n",
      "Epoch 30/50\n",
      "605/605 [==============================] - 51s 84ms/step - loss: 0.7281 - accuracy: 0.7127 - val_loss: 0.8139 - val_accuracy: 0.6899\n",
      "Epoch 31/50\n",
      "605/605 [==============================] - 51s 84ms/step - loss: 0.7142 - accuracy: 0.7184 - val_loss: 0.8358 - val_accuracy: 0.6820\n",
      "Epoch 32/50\n",
      "605/605 [==============================] - 51s 84ms/step - loss: 0.7272 - accuracy: 0.7099 - val_loss: 0.7824 - val_accuracy: 0.6921\n",
      "Epoch 33/50\n",
      "605/605 [==============================] - 51s 84ms/step - loss: 0.6755 - accuracy: 0.7363 - val_loss: 0.7568 - val_accuracy: 0.7296\n",
      "Epoch 34/50\n",
      "605/605 [==============================] - 51s 84ms/step - loss: 0.6420 - accuracy: 0.7787 - val_loss: 0.7168 - val_accuracy: 0.7968\n",
      "Epoch 35/50\n",
      "605/605 [==============================] - 51s 85ms/step - loss: 0.6054 - accuracy: 0.8219 - val_loss: 0.6661 - val_accuracy: 0.8217\n",
      "Epoch 36/50\n",
      "605/605 [==============================] - 51s 84ms/step - loss: 0.5594 - accuracy: 0.8503 - val_loss: 0.6489 - val_accuracy: 0.8254\n",
      "Epoch 37/50\n",
      "605/605 [==============================] - 51s 83ms/step - loss: 0.5081 - accuracy: 0.8648 - val_loss: 0.6291 - val_accuracy: 0.8265\n",
      "Epoch 38/50\n",
      "605/605 [==============================] - 51s 84ms/step - loss: 0.4767 - accuracy: 0.8669 - val_loss: 0.6145 - val_accuracy: 0.8333\n",
      "Epoch 39/50\n",
      "605/605 [==============================] - 51s 85ms/step - loss: 0.4587 - accuracy: 0.8683 - val_loss: 0.5956 - val_accuracy: 0.8302\n",
      "Epoch 40/50\n",
      "605/605 [==============================] - 51s 84ms/step - loss: 0.4463 - accuracy: 0.8649 - val_loss: 0.6061 - val_accuracy: 0.8381\n",
      "Epoch 41/50\n",
      "605/605 [==============================] - 51s 84ms/step - loss: 0.4172 - accuracy: 0.8756 - val_loss: 0.5854 - val_accuracy: 0.8386\n",
      "Epoch 42/50\n",
      "605/605 [==============================] - 51s 84ms/step - loss: 0.4059 - accuracy: 0.8754 - val_loss: 0.5928 - val_accuracy: 0.8392\n",
      "Epoch 43/50\n",
      "605/605 [==============================] - 51s 84ms/step - loss: 0.3935 - accuracy: 0.8771 - val_loss: 0.5851 - val_accuracy: 0.8328\n",
      "Epoch 44/50\n",
      "605/605 [==============================] - 51s 85ms/step - loss: 0.3805 - accuracy: 0.8771 - val_loss: 0.6047 - val_accuracy: 0.8381\n",
      "Epoch 45/50\n",
      "605/605 [==============================] - 51s 84ms/step - loss: 0.3647 - accuracy: 0.8793 - val_loss: 0.5784 - val_accuracy: 0.8386\n",
      "Epoch 46/50\n",
      "605/605 [==============================] - 51s 84ms/step - loss: 0.3689 - accuracy: 0.8764 - val_loss: 0.6037 - val_accuracy: 0.8413\n",
      "Epoch 47/50\n",
      "605/605 [==============================] - 419s 693ms/step - loss: 0.3584 - accuracy: 0.8779 - val_loss: 0.6102 - val_accuracy: 0.8392\n",
      "Epoch 48/50\n",
      "605/605 [==============================] - 52s 85ms/step - loss: 0.3526 - accuracy: 0.8805 - val_loss: 0.5898 - val_accuracy: 0.8344\n",
      "Epoch 49/50\n",
      "605/605 [==============================] - 50s 83ms/step - loss: 0.3498 - accuracy: 0.8777 - val_loss: 0.6122 - val_accuracy: 0.8386\n",
      "Epoch 50/50\n",
      "605/605 [==============================] - 50s 83ms/step - loss: 0.3516 - accuracy: 0.8750 - val_loss: 0.5914 - val_accuracy: 0.8349\n"
     ]
    }
   ],
   "source": [
    "history2 = pretext_model.fit(X_train, Y_train, \n",
    "                    epochs=50, \n",
    "                    validation_data=(X_val, Y_val),\n",
    "                    batch_size=25)"
   ]
  },
  {
   "cell_type": "code",
   "execution_count": 139,
   "metadata": {},
   "outputs": [
    {
     "name": "stdout",
     "output_type": "stream",
     "text": [
      "60/60 [==============================] - 1s 9ms/step - loss: 0.5444 - accuracy: 0.8465\n",
      "[[286   0   0   0   0   0   2  11   0   0   2   0]\n",
      " [  0 613   0   0   0   0   0   0   0   0   0   0]\n",
      " [  0   0   0   0   0   0   0   0   4   0   3   0]\n",
      " [  1   0   0   0   0   0   2   2   1   0  52   0]\n",
      " [  0   0   0   0   0   0   0   1   0   0  17   0]\n",
      " [  0   0   0   0   0   0   1   0   2   0  28   0]\n",
      " [  1   0   0   0   0   0 228   4   4   0   8   0]\n",
      " [  6   0   0   1   0   0   2 191   2   0   3   0]\n",
      " [  1   0   0   0   0   0   5   1 186   0  13   0]\n",
      " [  0   0   0   0   0   0   0   0  31   0   1   0]\n",
      " [  0   0   0   0   0   0   0   0   1   0  95   0]\n",
      " [  1   0   0   0   0   0   2   0  72   0   2   0]]\n",
      "Test set\n",
      "  Loss: 0.544\n",
      "  Accuracy: 0.846\n"
     ]
    }
   ],
   "source": [
    "from sklearn.metrics import confusion_matrix\n",
    "import numpy as np\n",
    "\n",
    "accuracy = pretext_model.evaluate(X_test, Y_test)\n",
    "prediction = pretext_model.predict(X_test)\n",
    "confusion_matrix = confusion_matrix(Y_test.argmax(axis=1), prediction.argmax(axis=1))\n",
    "print(confusion_matrix)\n",
    "\n",
    "print('Test set\\n  Loss: {:0.3f}\\n  Accuracy: {:0.3f}'.format(accuracy[0],accuracy[1]))"
   ]
  },
  {
   "cell_type": "code",
   "execution_count": 140,
   "metadata": {},
   "outputs": [
    {
     "data": {
      "image/png": "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\n",
      "text/plain": [
       "<Figure size 432x288 with 1 Axes>"
      ]
     },
     "metadata": {
      "needs_background": "light"
     },
     "output_type": "display_data"
    }
   ],
   "source": [
    "import keras\n",
    "from matplotlib import pyplot as plt\n",
    "plt.plot(history2.history['accuracy'])\n",
    "plt.plot(history2.history['val_accuracy'])\n",
    "plt.title('model accuracy')\n",
    "plt.ylabel('accuracy')\n",
    "plt.xlabel('epoch')\n",
    "plt.legend(['train', 'val'], loc='upper left')\n",
    "plt.show()"
   ]
  },
  {
   "cell_type": "code",
   "execution_count": 163,
   "metadata": {},
   "outputs": [
    {
     "data": {
      "image/png": "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\n",
      "text/plain": [
       "<Figure size 432x288 with 1 Axes>"
      ]
     },
     "metadata": {
      "needs_background": "light"
     },
     "output_type": "display_data"
    }
   ],
   "source": [
    "import keras\n",
    "from matplotlib import pyplot as plt\n",
    "plt.plot(history2.history['loss'])\n",
    "plt.plot(history2.history['val_loss'])\n",
    "plt.title('model loss')\n",
    "plt.ylabel('loss')\n",
    "plt.xlabel('epoch')\n",
    "plt.legend(['train', 'val'], loc='upper left')\n",
    "plt.show()"
   ]
  },
  {
   "cell_type": "markdown",
   "metadata": {},
   "source": [
    "### 20 Pretext"
   ]
  },
  {
   "cell_type": "code",
   "execution_count": 142,
   "metadata": {},
   "outputs": [],
   "source": [
    "df = data_retrieval('expand_pretext.csv')"
   ]
  },
  {
   "cell_type": "code",
   "execution_count": 143,
   "metadata": {
    "jupyter": {
     "source_hidden": true
    }
   },
   "outputs": [
    {
     "name": "stdout",
     "output_type": "stream",
     "text": [
      "Found 46846 unique tokens.\n",
      "46847\n",
      "Shape of data tensor: (3762, 80)\n",
      "Shape of label tensor:  (3762, 20)\n"
     ]
    }
   ],
   "source": [
    "from sklearn.model_selection import train_test_split\n",
    "text = df['text'].values\n",
    "labels = df['label'].values\n",
    "# splitting data into 80-20 for training and testing\n",
    "text_train, text_test_val, label_train, label_test_val = train_test_split(text,labels, test_size = 0.2, random_state = 42)\n",
    "# splitting testing data into 50-50 for testing and validation\n",
    "text_test, text_val, label_test, label_val = train_test_split(text_test_val, label_test_val, test_size=.5, random_state=42)\n",
    "\n",
    "from gensim.parsing.preprocessing import remove_stopwords\n",
    "\n",
    "# removing stop words\n",
    "def remove_stop_words_preprocessing(text_values):\n",
    "    for i in range(len(text_values)):\n",
    "        text_values[i] = remove_stopwords(text_values[i].lower())\n",
    "    return text_values\n",
    "\n",
    "# word embeddings\n",
    "from keras.preprocessing.text import Tokenizer\n",
    "\n",
    "def word_embeddings(text_values):\n",
    "    tokenizer = Tokenizer(num_words=5000, oov_token=\"UNK\")\n",
    "    tokenizer.fit_on_texts(text_values)\n",
    "    word_index = tokenizer.word_index\n",
    "    print('Found %s unique tokens.' % len(word_index))\n",
    "    return tokenizer\n",
    "\n",
    "# Removing the stop words\n",
    "X = remove_stop_words_preprocessing(text_train)\n",
    "X_val_text = remove_stop_words_preprocessing(text_val)\n",
    "X_test_text = remove_stop_words_preprocessing(text_test)\n",
    "\n",
    "# Creating a tokenization\n",
    "tokenizer = word_embeddings(X)\n",
    "\n",
    "# Tokenizing the sentences\n",
    "X_train = tokenizer.texts_to_sequences(X)\n",
    "X_val = tokenizer.texts_to_sequences(X_val_text)\n",
    "X_test = tokenizer.texts_to_sequences(X_test_text)\n",
    "\n",
    "# vocab size\n",
    "vocab_size = len(tokenizer.word_index)+1\n",
    "print(vocab_size)\n",
    "\n",
    "from keras.preprocessing.sequence import pad_sequences\n",
    "\n",
    "max_sequence_length = 80\n",
    "X_train = pad_sequences(X_train, padding=\"post\", maxlen=max_sequence_length)\n",
    "X_val = pad_sequences(X_val, padding=\"post\", maxlen=max_sequence_length)\n",
    "X_test = pad_sequences(X_test, padding=\"post\", maxlen=max_sequence_length)\n",
    "print('Shape of data tensor:', X_train.shape)\n",
    "\n",
    "Y_train = pd.get_dummies(label_train).values\n",
    "Y_val = pd.get_dummies(label_val).values\n",
    "Y_test = pd.get_dummies(label_test).values\n",
    "print('Shape of label tensor: ', Y_train.shape)"
   ]
  },
  {
   "cell_type": "code",
   "execution_count": 144,
   "metadata": {},
   "outputs": [
    {
     "name": "stdout",
     "output_type": "stream",
     "text": [
      "Model: \"sequential_7\"\n",
      "_________________________________________________________________\n",
      "Layer (type)                 Output Shape              Param #   \n",
      "=================================================================\n",
      "embedding_7 (Embedding)      (None, 80, 50)            2342350   \n",
      "_________________________________________________________________\n",
      "spatial_dropout1d_7 (Spatial (None, 80, 50)            0         \n",
      "_________________________________________________________________\n",
      "lstm_12 (LSTM)               (None, 100)               60400     \n",
      "_________________________________________________________________\n",
      "dense_17 (Dense)             (None, 20)                2020      \n",
      "=================================================================\n",
      "Total params: 2,404,770\n",
      "Trainable params: 2,404,770\n",
      "Non-trainable params: 0\n",
      "_________________________________________________________________\n"
     ]
    }
   ],
   "source": [
    "from keras.models import Sequential\n",
    "from keras import layers\n",
    "from keras import callbacks\n",
    "\n",
    "embedding_dim = 50\n",
    "\n",
    "callback = callbacks.EarlyStopping(monitor='loss', patience=5)\n",
    "model = Sequential()\n",
    "model.add(layers.Embedding(input_dim=vocab_size, \n",
    "                   output_dim=embedding_dim,\n",
    "                  input_length=max_sequence_length))\n",
    "model.add(layers.SpatialDropout1D(0.2))\n",
    "\n",
    "model.add(layers.LSTM(100, dropout=0.2, recurrent_dropout=0.2))\n",
    "\n",
    "model.add(layers.Dense(20, activation='softmax'))\n",
    "model.compile(loss='categorical_crossentropy', optimizer='adam', metrics=['accuracy'])\n",
    "model.summary()"
   ]
  },
  {
   "cell_type": "code",
   "execution_count": 145,
   "metadata": {},
   "outputs": [
    {
     "name": "stdout",
     "output_type": "stream",
     "text": [
      "Epoch 1/15\n",
      "151/151 [==============================] - 16s 95ms/step - loss: 2.9958 - accuracy: 0.0544 - val_loss: 2.9960 - val_accuracy: 0.0467\n",
      "Epoch 2/15\n",
      "151/151 [==============================] - 14s 95ms/step - loss: 2.9838 - accuracy: 0.0790 - val_loss: 3.0019 - val_accuracy: 0.0425\n",
      "Epoch 3/15\n",
      "151/151 [==============================] - 14s 93ms/step - loss: 2.8755 - accuracy: 0.1566 - val_loss: 3.0358 - val_accuracy: 0.0510\n",
      "Epoch 4/15\n",
      "151/151 [==============================] - 14s 94ms/step - loss: 2.5868 - accuracy: 0.2171 - val_loss: 3.3128 - val_accuracy: 0.0616\n",
      "Epoch 5/15\n",
      "151/151 [==============================] - 14s 94ms/step - loss: 2.1709 - accuracy: 0.3525 - val_loss: 3.4726 - val_accuracy: 0.0403\n",
      "Epoch 6/15\n",
      "151/151 [==============================] - 14s 92ms/step - loss: 1.7337 - accuracy: 0.4848 - val_loss: 3.8175 - val_accuracy: 0.0510\n",
      "Epoch 7/15\n",
      "151/151 [==============================] - 14s 94ms/step - loss: 1.3776 - accuracy: 0.5923 - val_loss: 4.1152 - val_accuracy: 0.0488\n",
      "Epoch 8/15\n",
      "151/151 [==============================] - 14s 95ms/step - loss: 1.0191 - accuracy: 0.7193 - val_loss: 4.6512 - val_accuracy: 0.0488\n",
      "Epoch 9/15\n",
      "151/151 [==============================] - 14s 93ms/step - loss: 0.8099 - accuracy: 0.7666 - val_loss: 4.9474 - val_accuracy: 0.0467\n",
      "Epoch 10/15\n",
      "151/151 [==============================] - 15s 100ms/step - loss: 0.6701 - accuracy: 0.8101 - val_loss: 5.1742 - val_accuracy: 0.0467\n",
      "Epoch 11/15\n",
      "151/151 [==============================] - 18s 118ms/step - loss: 0.5096 - accuracy: 0.8565 - val_loss: 5.6508 - val_accuracy: 0.0552\n",
      "Epoch 12/15\n",
      "151/151 [==============================] - 16s 107ms/step - loss: 0.4044 - accuracy: 0.8871 - val_loss: 5.8624 - val_accuracy: 0.0403\n",
      "Epoch 13/15\n",
      "151/151 [==============================] - 14s 93ms/step - loss: 0.4038 - accuracy: 0.8887 - val_loss: 6.1037 - val_accuracy: 0.0531\n",
      "Epoch 14/15\n",
      "151/151 [==============================] - 14s 92ms/step - loss: 0.3115 - accuracy: 0.9164 - val_loss: 6.1437 - val_accuracy: 0.0510\n",
      "Epoch 15/15\n",
      "151/151 [==============================] - 14s 92ms/step - loss: 0.2804 - accuracy: 0.9201 - val_loss: 6.5368 - val_accuracy: 0.0552\n"
     ]
    }
   ],
   "source": [
    "history3 = model.fit(X_train, Y_train, \n",
    "                    epochs=15, \n",
    "                    validation_data=(X_val, Y_val),\n",
    "                    batch_size=25)"
   ]
  },
  {
   "cell_type": "code",
   "execution_count": 146,
   "metadata": {},
   "outputs": [
    {
     "data": {
      "image/png": "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\n",
      "text/plain": [
       "<Figure size 432x288 with 1 Axes>"
      ]
     },
     "metadata": {
      "needs_background": "light"
     },
     "output_type": "display_data"
    }
   ],
   "source": [
    "import keras\n",
    "from matplotlib import pyplot as plt\n",
    "plt.plot(history3.history['accuracy'])\n",
    "plt.plot(history3.history['val_accuracy'])\n",
    "plt.title('model accuracy')\n",
    "plt.ylabel('accuracy')\n",
    "plt.xlabel('epoch')\n",
    "plt.legend(['train', 'val'], loc='upper left')\n",
    "plt.show()"
   ]
  },
  {
   "cell_type": "code",
   "execution_count": 164,
   "metadata": {},
   "outputs": [
    {
     "data": {
      "image/png": "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\n",
      "text/plain": [
       "<Figure size 432x288 with 1 Axes>"
      ]
     },
     "metadata": {
      "needs_background": "light"
     },
     "output_type": "display_data"
    }
   ],
   "source": [
    "import keras\n",
    "from matplotlib import pyplot as plt\n",
    "plt.plot(history3.history['loss'])\n",
    "plt.plot(history3.history['val_loss'])\n",
    "plt.title('model loss')\n",
    "plt.ylabel('loss')\n",
    "plt.xlabel('epoch')\n",
    "plt.legend(['train', 'val'], loc='upper left')\n",
    "plt.show()"
   ]
  },
  {
   "cell_type": "code",
   "execution_count": 147,
   "metadata": {},
   "outputs": [
    {
     "name": "stdout",
     "output_type": "stream",
     "text": [
      "INFO:tensorflow:Assets written to: pretext20-15_results/assets\n",
      "15/15 [==============================] - 0s 9ms/step - loss: 6.5557 - accuracy: 0.0426\n",
      "[[1 2 2 0 2 1 0 1 3 0 3 0 3 0 0 1 1 3 0 2]\n",
      " [3 3 3 2 1 1 0 2 1 3 1 1 1 0 1 2 1 2 0 0]\n",
      " [2 0 1 0 1 3 2 0 1 2 5 1 2 2 0 0 0 0 0 1]\n",
      " [0 0 0 1 0 0 4 1 0 0 1 0 0 2 1 2 2 1 2 2]\n",
      " [0 1 1 0 2 3 1 1 1 4 0 0 4 2 1 2 0 0 0 1]\n",
      " [0 2 1 3 2 1 1 1 2 2 1 1 1 1 1 0 0 3 0 0]\n",
      " [0 0 0 3 1 3 0 4 1 1 2 1 1 2 2 2 1 1 0 3]\n",
      " [1 3 0 2 0 2 0 1 1 1 0 1 3 2 1 1 1 3 1 2]\n",
      " [1 2 0 3 0 1 0 2 0 1 0 0 2 0 3 2 1 2 1 0]\n",
      " [1 2 1 1 0 2 1 1 3 0 2 0 1 2 2 0 2 2 1 3]\n",
      " [0 1 1 1 1 2 0 2 1 0 1 0 2 1 0 0 1 0 0 1]\n",
      " [0 3 0 2 2 0 0 2 2 1 0 1 3 2 0 3 0 0 1 1]\n",
      " [0 1 1 1 0 1 2 3 0 1 0 0 2 0 1 2 3 0 0 1]\n",
      " [2 3 1 0 0 3 0 0 2 0 1 0 3 1 2 4 1 0 2 1]\n",
      " [2 0 1 1 0 1 1 1 1 2 0 0 3 0 1 1 3 2 1 5]\n",
      " [0 5 1 0 0 0 0 0 2 0 1 0 1 1 2 0 1 3 0 0]\n",
      " [0 1 2 0 0 2 0 3 1 0 0 0 6 2 1 1 1 2 0 1]\n",
      " [1 3 2 1 1 0 1 0 0 0 1 0 1 0 2 4 2 0 1 2]\n",
      " [1 3 2 1 0 0 0 1 0 2 1 2 4 1 1 1 2 2 1 2]\n",
      " [2 3 1 0 1 1 0 1 3 1 1 0 1 2 4 1 4 0 0 2]]\n",
      "Test set\n",
      "  Loss: 6.556\n",
      "  Accuracy: 0.043\n"
     ]
    }
   ],
   "source": [
    "model.save(\"pretext20-15_results\")\n",
    "from sklearn.metrics import confusion_matrix\n",
    "import numpy as np\n",
    "\n",
    "accuracy = model.evaluate(X_test, Y_test)\n",
    "prediction = model.predict(X_test)\n",
    "confusion_matrix = confusion_matrix(Y_test.argmax(axis=1), prediction.argmax(axis=1))\n",
    "print(confusion_matrix)\n",
    "\n",
    "print('Test set\\n  Loss: {:0.3f}\\n  Accuracy: {:0.3f}'.format(accuracy[0],accuracy[1]))"
   ]
  },
  {
   "cell_type": "code",
   "execution_count": 148,
   "metadata": {},
   "outputs": [],
   "source": [
    "from keras.models import load_model\n",
    "pretext_model = load_model(\"pretext20-15_results\")"
   ]
  },
  {
   "cell_type": "code",
   "execution_count": 149,
   "metadata": {},
   "outputs": [
    {
     "name": "stdout",
     "output_type": "stream",
     "text": [
      "Model: \"sequential_7\"\n",
      "_________________________________________________________________\n",
      "Layer (type)                 Output Shape              Param #   \n",
      "=================================================================\n",
      "embedding_7 (Embedding)      (None, 80, 50)            2342350   \n",
      "_________________________________________________________________\n",
      "spatial_dropout1d_7 (Spatial (None, 80, 50)            0         \n",
      "_________________________________________________________________\n",
      "lstm_12 (LSTM)               (None, 100)               60400     \n",
      "_________________________________________________________________\n",
      "dense_17 (Dense)             (None, 20)                2020      \n",
      "_________________________________________________________________\n",
      "dense_18 (Dense)             (None, 12)                252       \n",
      "=================================================================\n",
      "Total params: 2,405,022\n",
      "Trainable params: 2,405,022\n",
      "Non-trainable params: 0\n",
      "_________________________________________________________________\n"
     ]
    }
   ],
   "source": [
    "from keras.models import Sequential\n",
    "from keras import layers\n",
    "from keras import callbacks\n",
    "\n",
    "pretext_model.add(layers.Dense(12, activation='softmax'))\n",
    "pretext_model.compile(loss='categorical_crossentropy', optimizer='adam', metrics=['accuracy'])\n",
    "pretext_model.summary()"
   ]
  },
  {
   "cell_type": "code",
   "execution_count": 150,
   "metadata": {},
   "outputs": [],
   "source": [
    "# Freeze the pre-trained layers\n",
    "\n",
    "for layer in pretext_model.layers[:4]:\n",
    "    layer.trainable=False"
   ]
  },
  {
   "cell_type": "code",
   "execution_count": 151,
   "metadata": {},
   "outputs": [],
   "source": [
    "df = data_retrieval('gutenberg_expanded.csv')"
   ]
  },
  {
   "cell_type": "code",
   "execution_count": 152,
   "metadata": {},
   "outputs": [
    {
     "name": "stdout",
     "output_type": "stream",
     "text": [
      "Found 41126 unique tokens.\n",
      "41127\n",
      "Shape of data tensor: (15114, 80)\n",
      "Shape of label tensor:  (15114, 12)\n"
     ]
    }
   ],
   "source": [
    "from sklearn.model_selection import train_test_split\n",
    "text = df['text'].values\n",
    "labels = df['label'].values\n",
    "# splitting data into 80-20 for training and testing\n",
    "text_train, text_test_val, label_train, label_test_val = train_test_split(text,labels, test_size = 0.2, random_state = 42)\n",
    "# splitting testing data into 50-50 for testing and validation\n",
    "text_test, text_val, label_test, label_val = train_test_split(text_test_val, label_test_val, test_size=.5, random_state=42)\n",
    "\n",
    "from gensim.parsing.preprocessing import remove_stopwords\n",
    "\n",
    "# removing stop words\n",
    "def remove_stop_words_preprocessing(text_values):\n",
    "    for i in range(len(text_values)):\n",
    "        text_values[i] = remove_stopwords(text_values[i].lower())\n",
    "    return text_values\n",
    "\n",
    "# word embeddings\n",
    "from keras.preprocessing.text import Tokenizer\n",
    "\n",
    "def word_embeddings(text_values):\n",
    "    tokenizer = Tokenizer(num_words=5000, oov_token=\"UNK\")\n",
    "    tokenizer.fit_on_texts(text_values)\n",
    "    word_index = tokenizer.word_index\n",
    "    print('Found %s unique tokens.' % len(word_index))\n",
    "    return tokenizer\n",
    "\n",
    "# Removing the stop words\n",
    "X = remove_stop_words_preprocessing(text_train)\n",
    "X_val_text = remove_stop_words_preprocessing(text_val)\n",
    "X_test_text = remove_stop_words_preprocessing(text_test)\n",
    "\n",
    "# Creating a tokenization\n",
    "tokenizer = word_embeddings(X)\n",
    "\n",
    "# Tokenizing the sentences\n",
    "X_train = tokenizer.texts_to_sequences(X)\n",
    "X_val = tokenizer.texts_to_sequences(X_val_text)\n",
    "X_test = tokenizer.texts_to_sequences(X_test_text)\n",
    "\n",
    "# vocab size\n",
    "vocab_size = len(tokenizer.word_index)+1\n",
    "print(vocab_size)\n",
    "\n",
    "from keras.preprocessing.sequence import pad_sequences\n",
    "\n",
    "max_sequence_length = 80\n",
    "X_train = pad_sequences(X_train, padding=\"post\", maxlen=max_sequence_length)\n",
    "X_val = pad_sequences(X_val, padding=\"post\", maxlen=max_sequence_length)\n",
    "X_test = pad_sequences(X_test, padding=\"post\", maxlen=max_sequence_length)\n",
    "print('Shape of data tensor:', X_train.shape)\n",
    "\n",
    "Y_train = pd.get_dummies(label_train).values\n",
    "Y_val = pd.get_dummies(label_val).values\n",
    "Y_test = pd.get_dummies(label_test).values\n",
    "print('Shape of label tensor: ', Y_train.shape)"
   ]
  },
  {
   "cell_type": "code",
   "execution_count": 153,
   "metadata": {
    "collapsed": true,
    "jupyter": {
     "outputs_hidden": true
    }
   },
   "outputs": [
    {
     "name": "stdout",
     "output_type": "stream",
     "text": [
      "Epoch 1/50\n",
      "605/605 [==============================] - 58s 92ms/step - loss: 2.2615 - accuracy: 0.2701 - val_loss: 2.0535 - val_accuracy: 0.3270\n",
      "Epoch 2/50\n",
      "605/605 [==============================] - 55s 91ms/step - loss: 2.0363 - accuracy: 0.3152 - val_loss: 2.0204 - val_accuracy: 0.3270\n",
      "Epoch 3/50\n",
      "605/605 [==============================] - 58s 96ms/step - loss: 2.0186 - accuracy: 0.3188 - val_loss: 2.0154 - val_accuracy: 0.3270\n",
      "Epoch 4/50\n",
      "605/605 [==============================] - 57s 95ms/step - loss: 2.0236 - accuracy: 0.3117 - val_loss: 2.0132 - val_accuracy: 0.3270\n",
      "Epoch 5/50\n",
      "605/605 [==============================] - 58s 95ms/step - loss: 2.0067 - accuracy: 0.3152 - val_loss: 2.0126 - val_accuracy: 0.3270\n",
      "Epoch 6/50\n",
      "605/605 [==============================] - 59s 97ms/step - loss: 2.0157 - accuracy: 0.3118 - val_loss: 2.0117 - val_accuracy: 0.3270\n",
      "Epoch 7/50\n",
      "605/605 [==============================] - 57s 94ms/step - loss: 2.0162 - accuracy: 0.3110 - val_loss: 2.0114 - val_accuracy: 0.3270\n",
      "Epoch 8/50\n",
      "605/605 [==============================] - 56s 92ms/step - loss: 2.0055 - accuracy: 0.3139 - val_loss: 1.9170 - val_accuracy: 0.3688\n",
      "Epoch 9/50\n",
      "605/605 [==============================] - 55s 92ms/step - loss: 1.9127 - accuracy: 0.3478 - val_loss: 2.0084 - val_accuracy: 0.3270\n",
      "Epoch 10/50\n",
      "605/605 [==============================] - 59s 98ms/step - loss: 1.8865 - accuracy: 0.3548 - val_loss: 1.5698 - val_accuracy: 0.4847\n",
      "Epoch 11/50\n",
      "605/605 [==============================] - 56s 93ms/step - loss: 1.5811 - accuracy: 0.4692 - val_loss: 1.4652 - val_accuracy: 0.4968\n",
      "Epoch 12/50\n",
      "605/605 [==============================] - 58s 95ms/step - loss: 1.4786 - accuracy: 0.4930 - val_loss: 1.4153 - val_accuracy: 0.5026\n",
      "Epoch 13/50\n",
      "605/605 [==============================] - 52s 87ms/step - loss: 1.3756 - accuracy: 0.5269 - val_loss: 1.2740 - val_accuracy: 0.5651\n",
      "Epoch 14/50\n",
      "605/605 [==============================] - 53s 88ms/step - loss: 1.2670 - accuracy: 0.5596 - val_loss: 1.1953 - val_accuracy: 0.5778\n",
      "Epoch 15/50\n",
      "605/605 [==============================] - 53s 88ms/step - loss: 1.1857 - accuracy: 0.5765 - val_loss: 1.1484 - val_accuracy: 0.5820\n",
      "Epoch 16/50\n",
      "605/605 [==============================] - 53s 88ms/step - loss: 1.1305 - accuracy: 0.5831 - val_loss: 1.1150 - val_accuracy: 0.5836\n",
      "Epoch 17/50\n",
      "605/605 [==============================] - 53s 88ms/step - loss: 1.0838 - accuracy: 0.5982 - val_loss: 1.0722 - val_accuracy: 0.6079\n",
      "Epoch 18/50\n",
      "605/605 [==============================] - 53s 88ms/step - loss: 0.9852 - accuracy: 0.6390 - val_loss: 0.9952 - val_accuracy: 0.6275\n",
      "Epoch 19/50\n",
      "605/605 [==============================] - 53s 87ms/step - loss: 0.9148 - accuracy: 0.6472 - val_loss: 0.9569 - val_accuracy: 0.6323\n",
      "Epoch 20/50\n",
      "605/605 [==============================] - 53s 88ms/step - loss: 0.8688 - accuracy: 0.6557 - val_loss: 0.9889 - val_accuracy: 0.6392\n",
      "Epoch 21/50\n",
      "605/605 [==============================] - 53s 88ms/step - loss: 0.7464 - accuracy: 0.7353 - val_loss: 0.6838 - val_accuracy: 0.7471\n",
      "Epoch 22/50\n",
      "605/605 [==============================] - 53s 88ms/step - loss: 0.5966 - accuracy: 0.7777 - val_loss: 0.6090 - val_accuracy: 0.7667\n",
      "Epoch 23/50\n",
      "605/605 [==============================] - 53s 88ms/step - loss: 0.5066 - accuracy: 0.8056 - val_loss: 0.5700 - val_accuracy: 0.7735\n",
      "Epoch 24/50\n",
      "605/605 [==============================] - 55s 90ms/step - loss: 0.4564 - accuracy: 0.8149 - val_loss: 0.5317 - val_accuracy: 0.7899\n",
      "Epoch 25/50\n",
      "605/605 [==============================] - 59s 97ms/step - loss: 0.4260 - accuracy: 0.8246 - val_loss: 0.5163 - val_accuracy: 0.7942\n",
      "Epoch 26/50\n",
      "605/605 [==============================] - 53s 88ms/step - loss: 0.3974 - accuracy: 0.8360 - val_loss: 0.5130 - val_accuracy: 0.7899\n",
      "Epoch 27/50\n",
      "605/605 [==============================] - 53s 87ms/step - loss: 0.3624 - accuracy: 0.8687 - val_loss: 0.4718 - val_accuracy: 0.8556\n",
      "Epoch 28/50\n",
      "605/605 [==============================] - 51s 85ms/step - loss: 0.3379 - accuracy: 0.9054 - val_loss: 0.4333 - val_accuracy: 0.8820\n",
      "Epoch 29/50\n",
      "605/605 [==============================] - 51s 84ms/step - loss: 0.2937 - accuracy: 0.9231 - val_loss: 0.4109 - val_accuracy: 0.8857\n",
      "Epoch 30/50\n",
      "605/605 [==============================] - 51s 84ms/step - loss: 0.2452 - accuracy: 0.9371 - val_loss: 0.4011 - val_accuracy: 0.8862\n",
      "Epoch 31/50\n",
      "605/605 [==============================] - 51s 84ms/step - loss: 0.2330 - accuracy: 0.9385 - val_loss: 0.3848 - val_accuracy: 0.8847\n",
      "Epoch 32/50\n",
      "605/605 [==============================] - 53s 87ms/step - loss: 0.2090 - accuracy: 0.9374 - val_loss: 0.3621 - val_accuracy: 0.8921\n",
      "Epoch 33/50\n",
      "605/605 [==============================] - 58s 95ms/step - loss: 0.1938 - accuracy: 0.9421 - val_loss: 0.3478 - val_accuracy: 0.8942\n",
      "Epoch 34/50\n",
      "605/605 [==============================] - 53s 87ms/step - loss: 0.1820 - accuracy: 0.9426 - val_loss: 0.3806 - val_accuracy: 0.8974\n",
      "Epoch 35/50\n",
      "605/605 [==============================] - 54s 89ms/step - loss: 0.1640 - accuracy: 0.9588 - val_loss: 0.3532 - val_accuracy: 0.9074\n",
      "Epoch 36/50\n",
      "605/605 [==============================] - 55s 91ms/step - loss: 0.1611 - accuracy: 0.9603 - val_loss: 0.3416 - val_accuracy: 0.9101\n",
      "Epoch 37/50\n",
      "605/605 [==============================] - 59s 98ms/step - loss: 0.1537 - accuracy: 0.9603 - val_loss: 0.3453 - val_accuracy: 0.9090\n",
      "Epoch 38/50\n",
      "605/605 [==============================] - 54s 89ms/step - loss: 0.1416 - accuracy: 0.9640 - val_loss: 0.3306 - val_accuracy: 0.9095\n",
      "Epoch 39/50\n",
      "605/605 [==============================] - 53s 88ms/step - loss: 0.1312 - accuracy: 0.9641 - val_loss: 0.3155 - val_accuracy: 0.9190\n",
      "Epoch 40/50\n",
      "605/605 [==============================] - 53s 87ms/step - loss: 0.1228 - accuracy: 0.9670 - val_loss: 0.3515 - val_accuracy: 0.9095\n",
      "Epoch 41/50\n",
      "605/605 [==============================] - 52s 86ms/step - loss: 0.1216 - accuracy: 0.9644 - val_loss: 0.3425 - val_accuracy: 0.9132\n",
      "Epoch 42/50\n",
      "605/605 [==============================] - 53s 88ms/step - loss: 0.1180 - accuracy: 0.9640 - val_loss: 0.3147 - val_accuracy: 0.9159\n",
      "Epoch 43/50\n",
      "605/605 [==============================] - 52s 86ms/step - loss: 0.1038 - accuracy: 0.9694 - val_loss: 0.3293 - val_accuracy: 0.9127\n",
      "Epoch 44/50\n",
      "605/605 [==============================] - 57s 95ms/step - loss: 0.1061 - accuracy: 0.9673 - val_loss: 0.3036 - val_accuracy: 0.9143\n",
      "Epoch 45/50\n",
      "605/605 [==============================] - 55s 90ms/step - loss: 0.1040 - accuracy: 0.9667 - val_loss: 0.3166 - val_accuracy: 0.9185\n",
      "Epoch 46/50\n",
      "605/605 [==============================] - 54s 89ms/step - loss: 0.1004 - accuracy: 0.9662 - val_loss: 0.3282 - val_accuracy: 0.9143\n",
      "Epoch 47/50\n",
      "605/605 [==============================] - 54s 90ms/step - loss: 0.0890 - accuracy: 0.9681 - val_loss: 0.3164 - val_accuracy: 0.9228\n",
      "Epoch 48/50\n",
      "605/605 [==============================] - 53s 87ms/step - loss: 0.0933 - accuracy: 0.9719 - val_loss: 0.3049 - val_accuracy: 0.9376\n",
      "Epoch 49/50\n",
      "605/605 [==============================] - 54s 89ms/step - loss: 0.0855 - accuracy: 0.9800 - val_loss: 0.3202 - val_accuracy: 0.9349\n",
      "Epoch 50/50\n",
      "605/605 [==============================] - 55s 92ms/step - loss: 0.0747 - accuracy: 0.9840 - val_loss: 0.3090 - val_accuracy: 0.9370\n"
     ]
    }
   ],
   "source": [
    "history4 = pretext_model.fit(X_train, Y_train, \n",
    "                    epochs=50, \n",
    "                    validation_data=(X_val, Y_val),\n",
    "                    batch_size=25)"
   ]
  },
  {
   "cell_type": "code",
   "execution_count": 154,
   "metadata": {},
   "outputs": [
    {
     "name": "stdout",
     "output_type": "stream",
     "text": [
      "60/60 [==============================] - 1s 11ms/step - loss: 0.3176 - accuracy: 0.9333\n",
      "[[290   0   0   1   0   0   1   8   0   0   0   1]\n",
      " [  0 613   0   0   0   0   0   0   0   0   0   0]\n",
      " [  0   0   0   1   0   2   0   0   1   3   0   0]\n",
      " [  0   0   0  45   0   3   2   7   0   0   1   0]\n",
      " [  0   0   0  18   0   0   0   0   0   0   0   0]\n",
      " [  0   0   0   2   0  26   1   1   0   1   0   0]\n",
      " [  1   0   0   1   0   0 227   5   9   0   0   2]\n",
      " [  5   0   0   2   0   0   4 192   2   0   0   0]\n",
      " [  0   0   0   1   0   0   3   3 188   0   2   9]\n",
      " [  0   0   0   0   0   2   1   0   0  25   0   4]\n",
      " [  0   0   0   0   0   0   0   0   0   0  96   0]\n",
      " [  0   0   0   1   0   1   1   1   7   3   2  61]]\n",
      "Test set\n",
      "  Loss: 0.318\n",
      "  Accuracy: 0.933\n"
     ]
    }
   ],
   "source": [
    "from sklearn.metrics import confusion_matrix\n",
    "import numpy as np\n",
    "\n",
    "accuracy = pretext_model.evaluate(X_test, Y_test)\n",
    "prediction = pretext_model.predict(X_test)\n",
    "confusion_matrix = confusion_matrix(Y_test.argmax(axis=1), prediction.argmax(axis=1))\n",
    "print(confusion_matrix)\n",
    "\n",
    "print('Test set\\n  Loss: {:0.3f}\\n  Accuracy: {:0.3f}'.format(accuracy[0],accuracy[1]))"
   ]
  },
  {
   "cell_type": "code",
   "execution_count": 155,
   "metadata": {},
   "outputs": [
    {
     "data": {
      "image/png": "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\n",
      "text/plain": [
       "<Figure size 432x288 with 1 Axes>"
      ]
     },
     "metadata": {
      "needs_background": "light"
     },
     "output_type": "display_data"
    }
   ],
   "source": [
    "import keras\n",
    "from matplotlib import pyplot as plt\n",
    "plt.plot(history4.history['accuracy'])\n",
    "plt.plot(history4.history['val_accuracy'])\n",
    "plt.title('model accuracy')\n",
    "plt.ylabel('accuracy')\n",
    "plt.xlabel('epoch')\n",
    "plt.legend(['train', 'val'], loc='upper left')\n",
    "plt.show()"
   ]
  },
  {
   "cell_type": "code",
   "execution_count": 165,
   "metadata": {},
   "outputs": [
    {
     "data": {
      "image/png": "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\n",
      "text/plain": [
       "<Figure size 432x288 with 1 Axes>"
      ]
     },
     "metadata": {
      "needs_background": "light"
     },
     "output_type": "display_data"
    }
   ],
   "source": [
    "import keras\n",
    "from matplotlib import pyplot as plt\n",
    "plt.plot(history4.history['loss'])\n",
    "plt.plot(history4.history['val_loss'])\n",
    "plt.title('model loss')\n",
    "plt.ylabel('loss')\n",
    "plt.xlabel('epoch')\n",
    "plt.legend(['train', 'val'], loc='upper left')\n",
    "plt.show()"
   ]
  },
  {
   "cell_type": "markdown",
   "metadata": {},
   "source": [
    "# Base"
   ]
  },
  {
   "cell_type": "code",
   "execution_count": 156,
   "metadata": {},
   "outputs": [],
   "source": [
    "df = data_retrieval('gutenberg_expanded.csv')"
   ]
  },
  {
   "cell_type": "code",
   "execution_count": 157,
   "metadata": {},
   "outputs": [
    {
     "name": "stdout",
     "output_type": "stream",
     "text": [
      "Found 41126 unique tokens.\n",
      "41127\n",
      "Shape of data tensor: (15114, 80)\n",
      "Shape of label tensor:  (15114, 12)\n"
     ]
    }
   ],
   "source": [
    "from sklearn.model_selection import train_test_split\n",
    "text = df['text'].values\n",
    "labels = df['label'].values\n",
    "# splitting data into 80-20 for training and testing\n",
    "text_train, text_test_val, label_train, label_test_val = train_test_split(text,labels, test_size = 0.2, random_state = 42)\n",
    "# splitting testing data into 50-50 for testing and validation\n",
    "text_test, text_val, label_test, label_val = train_test_split(text_test_val, label_test_val, test_size=.5, random_state=42)\n",
    "\n",
    "from gensim.parsing.preprocessing import remove_stopwords\n",
    "\n",
    "# removing stop words\n",
    "def remove_stop_words_preprocessing(text_values):\n",
    "    for i in range(len(text_values)):\n",
    "        text_values[i] = remove_stopwords(text_values[i].lower())\n",
    "    return text_values\n",
    "\n",
    "# word embeddings\n",
    "from keras.preprocessing.text import Tokenizer\n",
    "\n",
    "def word_embeddings(text_values):\n",
    "    tokenizer = Tokenizer(num_words=5000, oov_token=\"UNK\")\n",
    "    tokenizer.fit_on_texts(text_values)\n",
    "    word_index = tokenizer.word_index\n",
    "    print('Found %s unique tokens.' % len(word_index))\n",
    "    return tokenizer\n",
    "\n",
    "# Removing the stop words\n",
    "X = remove_stop_words_preprocessing(text_train)\n",
    "X_val_text = remove_stop_words_preprocessing(text_val)\n",
    "X_test_text = remove_stop_words_preprocessing(text_test)\n",
    "\n",
    "# Creating a tokenization\n",
    "tokenizer = word_embeddings(X)\n",
    "\n",
    "# Tokenizing the sentences\n",
    "X_train = tokenizer.texts_to_sequences(X)\n",
    "X_val = tokenizer.texts_to_sequences(X_val_text)\n",
    "X_test = tokenizer.texts_to_sequences(X_test_text)\n",
    "\n",
    "# vocab size\n",
    "vocab_size = len(tokenizer.word_index)+1\n",
    "print(vocab_size)\n",
    "\n",
    "from keras.preprocessing.sequence import pad_sequences\n",
    "\n",
    "max_sequence_length = 80\n",
    "X_train = pad_sequences(X_train, padding=\"post\", maxlen=max_sequence_length)\n",
    "X_val = pad_sequences(X_val, padding=\"post\", maxlen=max_sequence_length)\n",
    "X_test = pad_sequences(X_test, padding=\"post\", maxlen=max_sequence_length)\n",
    "print('Shape of data tensor:', X_train.shape)\n",
    "\n",
    "Y_train = pd.get_dummies(label_train).values\n",
    "Y_val = pd.get_dummies(label_val).values\n",
    "Y_test = pd.get_dummies(label_test).values\n",
    "print('Shape of label tensor: ', Y_train.shape)"
   ]
  },
  {
   "cell_type": "code",
   "execution_count": 158,
   "metadata": {},
   "outputs": [
    {
     "name": "stdout",
     "output_type": "stream",
     "text": [
      "Model: \"sequential_8\"\n",
      "_________________________________________________________________\n",
      "Layer (type)                 Output Shape              Param #   \n",
      "=================================================================\n",
      "embedding_8 (Embedding)      (None, 80, 50)            2056350   \n",
      "_________________________________________________________________\n",
      "spatial_dropout1d_8 (Spatial (None, 80, 50)            0         \n",
      "_________________________________________________________________\n",
      "lstm_13 (LSTM)               (None, 100)               60400     \n",
      "_________________________________________________________________\n",
      "dense_19 (Dense)             (None, 12)                1212      \n",
      "=================================================================\n",
      "Total params: 2,117,962\n",
      "Trainable params: 2,117,962\n",
      "Non-trainable params: 0\n",
      "_________________________________________________________________\n"
     ]
    }
   ],
   "source": [
    "from keras.models import Sequential\n",
    "from keras import layers\n",
    "from keras import callbacks\n",
    "\n",
    "embedding_dim = 50\n",
    "\n",
    "callback = callbacks.EarlyStopping(monitor='loss', patience=5)\n",
    "model = Sequential()\n",
    "model.add(layers.Embedding(input_dim=vocab_size, \n",
    "                   output_dim=embedding_dim,\n",
    "                  input_length=max_sequence_length))\n",
    "model.add(layers.SpatialDropout1D(0.2))\n",
    "\n",
    "model.add(layers.LSTM(100, dropout=0.2, recurrent_dropout=0.2))\n",
    "\n",
    "model.add(layers.Dense(12, activation='softmax'))\n",
    "model.compile(loss='categorical_crossentropy', optimizer='adam', metrics=['accuracy'])\n",
    "model.summary()"
   ]
  },
  {
   "cell_type": "code",
   "execution_count": 159,
   "metadata": {
    "collapsed": true,
    "jupyter": {
     "outputs_hidden": true
    }
   },
   "outputs": [
    {
     "name": "stdout",
     "output_type": "stream",
     "text": [
      "Epoch 1/50\n",
      "605/605 [==============================] - 58s 93ms/step - loss: 1.9179 - accuracy: 0.3385 - val_loss: 1.5521 - val_accuracy: 0.4878\n",
      "Epoch 2/50\n",
      "605/605 [==============================] - 55s 91ms/step - loss: 1.5137 - accuracy: 0.4761 - val_loss: 1.3957 - val_accuracy: 0.5037\n",
      "Epoch 3/50\n",
      "605/605 [==============================] - 55s 91ms/step - loss: 1.4062 - accuracy: 0.4986 - val_loss: 1.3457 - val_accuracy: 0.5074\n",
      "Epoch 4/50\n",
      "605/605 [==============================] - 52s 86ms/step - loss: 1.1218 - accuracy: 0.5994 - val_loss: 0.9679 - val_accuracy: 0.6534\n",
      "Epoch 5/50\n",
      "605/605 [==============================] - 54s 89ms/step - loss: 0.8834 - accuracy: 0.6975 - val_loss: 1.0137 - val_accuracy: 0.6556\n",
      "Epoch 6/50\n",
      "605/605 [==============================] - 57s 94ms/step - loss: 0.9406 - accuracy: 0.6735 - val_loss: 0.8410 - val_accuracy: 0.7042\n",
      "Epoch 7/50\n",
      "605/605 [==============================] - 55s 90ms/step - loss: 0.8414 - accuracy: 0.7007 - val_loss: 0.7328 - val_accuracy: 0.7466\n",
      "Epoch 8/50\n",
      "605/605 [==============================] - 54s 90ms/step - loss: 0.6668 - accuracy: 0.7663 - val_loss: 0.6495 - val_accuracy: 0.7899\n",
      "Epoch 9/50\n",
      "605/605 [==============================] - 56s 92ms/step - loss: 0.5435 - accuracy: 0.8242 - val_loss: 0.5481 - val_accuracy: 0.8217\n",
      "Epoch 10/50\n",
      "605/605 [==============================] - 55s 91ms/step - loss: 0.4424 - accuracy: 0.8603 - val_loss: 0.4490 - val_accuracy: 0.8492\n",
      "Epoch 11/50\n",
      "605/605 [==============================] - 57s 95ms/step - loss: 0.3530 - accuracy: 0.8886 - val_loss: 0.4119 - val_accuracy: 0.8693\n",
      "Epoch 12/50\n",
      "605/605 [==============================] - 61s 101ms/step - loss: 0.2608 - accuracy: 0.9143 - val_loss: 0.3597 - val_accuracy: 0.8852\n",
      "Epoch 13/50\n",
      "605/605 [==============================] - 57s 94ms/step - loss: 0.1953 - accuracy: 0.9363 - val_loss: 0.3108 - val_accuracy: 0.8947\n",
      "Epoch 14/50\n",
      "605/605 [==============================] - 58s 96ms/step - loss: 0.1672 - accuracy: 0.9408 - val_loss: 0.3012 - val_accuracy: 0.9063\n",
      "Epoch 15/50\n",
      "605/605 [==============================] - 56s 92ms/step - loss: 0.1281 - accuracy: 0.9557 - val_loss: 0.2547 - val_accuracy: 0.9249\n",
      "Epoch 16/50\n",
      "605/605 [==============================] - 58s 96ms/step - loss: 0.0957 - accuracy: 0.9655 - val_loss: 0.2690 - val_accuracy: 0.9333\n",
      "Epoch 17/50\n",
      "605/605 [==============================] - 59s 98ms/step - loss: 0.0885 - accuracy: 0.9710 - val_loss: 0.2433 - val_accuracy: 0.9344\n",
      "Epoch 18/50\n",
      "605/605 [==============================] - 51s 84ms/step - loss: 0.0675 - accuracy: 0.9790 - val_loss: 0.2578 - val_accuracy: 0.9349\n",
      "Epoch 19/50\n",
      "605/605 [==============================] - 57s 94ms/step - loss: 0.0529 - accuracy: 0.9850 - val_loss: 0.2408 - val_accuracy: 0.9460\n",
      "Epoch 20/50\n",
      "605/605 [==============================] - 58s 95ms/step - loss: 0.0378 - accuracy: 0.9893 - val_loss: 0.2356 - val_accuracy: 0.9434\n",
      "Epoch 21/50\n",
      "605/605 [==============================] - 56s 92ms/step - loss: 0.0368 - accuracy: 0.9893 - val_loss: 0.2368 - val_accuracy: 0.9413\n",
      "Epoch 22/50\n",
      "605/605 [==============================] - 51s 84ms/step - loss: 0.0233 - accuracy: 0.9936 - val_loss: 0.2190 - val_accuracy: 0.9466\n",
      "Epoch 23/50\n",
      "605/605 [==============================] - 51s 85ms/step - loss: 0.0205 - accuracy: 0.9944 - val_loss: 0.2381 - val_accuracy: 0.9349\n",
      "Epoch 24/50\n",
      "605/605 [==============================] - 51s 84ms/step - loss: 0.0242 - accuracy: 0.9945 - val_loss: 0.2490 - val_accuracy: 0.9481\n",
      "Epoch 25/50\n",
      "605/605 [==============================] - 52s 86ms/step - loss: 0.0181 - accuracy: 0.9948 - val_loss: 0.2106 - val_accuracy: 0.9508\n",
      "Epoch 26/50\n",
      "605/605 [==============================] - 51s 84ms/step - loss: 0.0205 - accuracy: 0.9941 - val_loss: 0.2498 - val_accuracy: 0.9487\n",
      "Epoch 27/50\n",
      "605/605 [==============================] - 50s 82ms/step - loss: 0.0107 - accuracy: 0.9974 - val_loss: 0.2288 - val_accuracy: 0.9513\n",
      "Epoch 28/50\n",
      "605/605 [==============================] - 53s 88ms/step - loss: 0.0173 - accuracy: 0.9951 - val_loss: 0.2207 - val_accuracy: 0.9529\n",
      "Epoch 29/50\n",
      "605/605 [==============================] - 55s 90ms/step - loss: 0.0072 - accuracy: 0.9980 - val_loss: 0.2173 - val_accuracy: 0.9550\n",
      "Epoch 30/50\n",
      "605/605 [==============================] - 53s 87ms/step - loss: 0.0091 - accuracy: 0.9973 - val_loss: 0.2677 - val_accuracy: 0.9455\n",
      "Epoch 31/50\n",
      "605/605 [==============================] - 53s 88ms/step - loss: 0.0114 - accuracy: 0.9967 - val_loss: 0.2244 - val_accuracy: 0.9556\n",
      "Epoch 32/50\n",
      "605/605 [==============================] - 53s 88ms/step - loss: 0.0091 - accuracy: 0.9981 - val_loss: 0.2220 - val_accuracy: 0.9519\n",
      "Epoch 33/50\n",
      "605/605 [==============================] - 54s 89ms/step - loss: 0.0101 - accuracy: 0.9969 - val_loss: 0.2399 - val_accuracy: 0.9566\n",
      "Epoch 34/50\n",
      "605/605 [==============================] - 53s 88ms/step - loss: 0.0043 - accuracy: 0.9990 - val_loss: 0.2595 - val_accuracy: 0.9556\n",
      "Epoch 35/50\n",
      "605/605 [==============================] - 53s 87ms/step - loss: 0.0084 - accuracy: 0.9979 - val_loss: 0.2470 - val_accuracy: 0.9545\n",
      "Epoch 36/50\n",
      "605/605 [==============================] - 54s 90ms/step - loss: 0.0136 - accuracy: 0.9966 - val_loss: 0.1920 - val_accuracy: 0.9577\n",
      "Epoch 37/50\n",
      "605/605 [==============================] - 53s 88ms/step - loss: 0.0039 - accuracy: 0.9991 - val_loss: 0.2304 - val_accuracy: 0.9545\n",
      "Epoch 38/50\n",
      "605/605 [==============================] - 53s 88ms/step - loss: 0.0046 - accuracy: 0.9991 - val_loss: 0.2090 - val_accuracy: 0.9582\n",
      "Epoch 39/50\n",
      "605/605 [==============================] - 54s 89ms/step - loss: 0.0033 - accuracy: 0.9995 - val_loss: 0.2286 - val_accuracy: 0.9571\n",
      "Epoch 40/50\n",
      "605/605 [==============================] - 53s 88ms/step - loss: 0.0029 - accuracy: 0.9991 - val_loss: 0.2474 - val_accuracy: 0.9561\n",
      "Epoch 41/50\n",
      "605/605 [==============================] - 56s 93ms/step - loss: 0.0025 - accuracy: 0.9992 - val_loss: 0.2400 - val_accuracy: 0.9582\n",
      "Epoch 42/50\n",
      "605/605 [==============================] - 53s 88ms/step - loss: 0.0070 - accuracy: 0.9980 - val_loss: 0.2437 - val_accuracy: 0.9529\n",
      "Epoch 43/50\n",
      "605/605 [==============================] - 53s 88ms/step - loss: 0.0040 - accuracy: 0.9989 - val_loss: 0.2503 - val_accuracy: 0.9534\n",
      "Epoch 44/50\n",
      "605/605 [==============================] - 53s 88ms/step - loss: 0.0026 - accuracy: 0.9994 - val_loss: 0.2508 - val_accuracy: 0.9566\n",
      "Epoch 45/50\n",
      "605/605 [==============================] - 53s 88ms/step - loss: 0.0020 - accuracy: 0.9992 - val_loss: 0.2524 - val_accuracy: 0.9534\n",
      "Epoch 46/50\n",
      "605/605 [==============================] - 53s 88ms/step - loss: 0.0035 - accuracy: 0.9995 - val_loss: 0.2313 - val_accuracy: 0.9550\n",
      "Epoch 47/50\n",
      "605/605 [==============================] - 54s 90ms/step - loss: 0.0045 - accuracy: 0.9988 - val_loss: 0.2529 - val_accuracy: 0.9540\n",
      "Epoch 48/50\n",
      "605/605 [==============================] - 59s 97ms/step - loss: 0.0019 - accuracy: 0.9994 - val_loss: 0.2532 - val_accuracy: 0.9540\n",
      "Epoch 49/50\n",
      "605/605 [==============================] - 53s 87ms/step - loss: 0.0048 - accuracy: 0.9986 - val_loss: 0.2606 - val_accuracy: 0.9545\n",
      "Epoch 50/50\n",
      "605/605 [==============================] - 54s 90ms/step - loss: 0.0045 - accuracy: 0.9987 - val_loss: 0.2493 - val_accuracy: 0.9529\n"
     ]
    }
   ],
   "source": [
    "history_base = model.fit(X_train, Y_train, \n",
    "                    epochs=50, \n",
    "                    validation_data=(X_val, Y_val),\n",
    "                    batch_size=25)"
   ]
  },
  {
   "cell_type": "code",
   "execution_count": 160,
   "metadata": {},
   "outputs": [
    {
     "data": {
      "image/png": "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\n",
      "text/plain": [
       "<Figure size 432x288 with 1 Axes>"
      ]
     },
     "metadata": {
      "needs_background": "light"
     },
     "output_type": "display_data"
    }
   ],
   "source": [
    "import keras\n",
    "from matplotlib import pyplot as plt\n",
    "plt.plot(history_base.history['accuracy'])\n",
    "plt.plot(history_base.history['val_accuracy'])\n",
    "plt.title('model accuracy')\n",
    "plt.ylabel('accuracy')\n",
    "plt.xlabel('epoch')\n",
    "plt.legend(['train', 'val'], loc='upper left')\n",
    "plt.show()"
   ]
  },
  {
   "cell_type": "code",
   "execution_count": 166,
   "metadata": {},
   "outputs": [
    {
     "data": {
      "image/png": "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\n",
      "text/plain": [
       "<Figure size 432x288 with 1 Axes>"
      ]
     },
     "metadata": {
      "needs_background": "light"
     },
     "output_type": "display_data"
    }
   ],
   "source": [
    "import keras\n",
    "from matplotlib import pyplot as plt\n",
    "plt.plot(history_base.history['loss'])\n",
    "plt.plot(history_base.history['val_loss'])\n",
    "plt.title('model loss')\n",
    "plt.ylabel('loss')\n",
    "plt.xlabel('epoch')\n",
    "plt.legend(['train', 'val'], loc='upper left')\n",
    "plt.show()"
   ]
  },
  {
   "cell_type": "code",
   "execution_count": 161,
   "metadata": {},
   "outputs": [
    {
     "name": "stdout",
     "output_type": "stream",
     "text": [
      "INFO:tensorflow:Assets written to: base_results/assets\n",
      "60/60 [==============================] - 1s 9ms/step - loss: 0.1727 - accuracy: 0.9603\n",
      "[[288   0   0   1   1   0   3   7   1   0   0   0]\n",
      " [  0 613   0   0   0   0   0   0   0   0   0   0]\n",
      " [  0   0   6   0   0   0   0   0   0   1   0   0]\n",
      " [  0   0   0  48   0   1   5   1   2   0   0   1]\n",
      " [  0   0   0   1  17   0   0   0   0   0   0   0]\n",
      " [  0   0   0   0   1  28   0   0   1   0   0   1]\n",
      " [  1   0   0   0   2   0 235   0   6   0   0   1]\n",
      " [  5   0   0   4   1   0   1 192   1   0   0   1]\n",
      " [  2   0   0   2   0   1   6   0 192   0   2   1]\n",
      " [  0   0   0   0   0   0   0   0   1  29   0   2]\n",
      " [  0   0   0   0   0   0   0   0   0   0  95   1]\n",
      " [  0   1   1   0   0   0   1   1   2   0   0  71]]\n",
      "Test set\n",
      "  Loss: 0.173\n",
      "  Accuracy: 0.960\n"
     ]
    }
   ],
   "source": [
    "model.save(\"base_results\")\n",
    "from sklearn.metrics import confusion_matrix\n",
    "import numpy as np\n",
    "\n",
    "accuracy = model.evaluate(X_test, Y_test)\n",
    "prediction = model.predict(X_test)\n",
    "confusion_matrix = confusion_matrix(Y_test.argmax(axis=1), prediction.argmax(axis=1))\n",
    "print(confusion_matrix)\n",
    "\n",
    "print('Test set\\n  Loss: {:0.3f}\\n  Accuracy: {:0.3f}'.format(accuracy[0],accuracy[1]))"
   ]
  },
  {
   "cell_type": "markdown",
   "metadata": {},
   "source": [
    "## Comparing Against Other Models"
   ]
  },
  {
   "cell_type": "markdown",
   "metadata": {},
   "source": [
    "### Logistics Regression"
   ]
  },
  {
   "cell_type": "code",
   "execution_count": null,
   "metadata": {},
   "outputs": [],
   "source": [
    "from sklearn.feature_extraction.text import CountVectorizer\n",
    "\n",
    "vectorizer = CountVectorizer()\n",
    "vectorizer.fit(text_train)\n",
    "X_train = vectorizer.transform(text_train)\n",
    "X_test  = vectorizer.transform(text_test)\n",
    "X_val = vectorizer.transform(text_val)"
   ]
  },
  {
   "cell_type": "code",
   "execution_count": null,
   "metadata": {},
   "outputs": [],
   "source": [
    "from sklearn.linear_model import LogisticRegression\n",
    "from numpy import mean\n",
    "from numpy import std\n",
    "from sklearn.model_selection import RepeatedStratifiedKFold\n",
    "from sklearn.model_selection import cross_val_score\n",
    "\n",
    "classifier = LogisticRegression(multi_class='multinomial', solver=\"lbfgs\")\n",
    "cv = RepeatedStratifiedKFold(n_splits=10, n_repeats=3, random_state=1)\n",
    "n_scores = cross_val_score(classifier, X_train, label_train, scoring='accuracy', cv=cv, n_jobs=-1)\n",
    "# classifier.fit(X_train, Y_train)\n",
    "# score = classifier.score(X_test, Y_test)\n",
    "print(\"Accuracy:\", mean(n_scores))"
   ]
  },
  {
   "cell_type": "markdown",
   "metadata": {},
   "source": [
    "### Naive Bayes"
   ]
  },
  {
   "cell_type": "code",
   "execution_count": null,
   "metadata": {},
   "outputs": [],
   "source": [
    "from sklearn.naive_bayes import GaussianNB\n",
    "from sklearn.metrics import confusion_matrix\n",
    "\n",
    "gnb = GaussianNB().fit(X_train, label_train)\n",
    "gnb_predictions = gnb.predict(X_test)\n",
    "\n",
    "# accuracy\n",
    "accuracy = gnb.score(X_test, label_test)\n",
    "print(accuracy)\n",
    "\n",
    "cm = confusion_matrix(label_test, gnb_predictions)\n",
    "print(cm)"
   ]
  },
  {
   "cell_type": "markdown",
   "metadata": {},
   "source": [
    "### Decision Tree Classifier "
   ]
  },
  {
   "cell_type": "code",
   "execution_count": null,
   "metadata": {},
   "outputs": [],
   "source": [
    "from sklearn.tree import DecisionTreeClassifier\n",
    "dtree_model = DecisionTreeClassifier().fit(X_train, label_train)\n",
    "\n",
    "dtree_predictions = dtree_model.predict(X_test)\n",
    "accuracy = dtree_model.score(X_test, label_test)\n",
    "print(accuracy)\n",
    "\n",
    "cm = confusion_matrix(label_test, dtree_predictions)\n",
    "print(cm)"
   ]
  },
  {
   "cell_type": "markdown",
   "metadata": {},
   "source": [
    "### KNN (k-nearest-neighbors) classifier"
   ]
  },
  {
   "cell_type": "code",
   "execution_count": null,
   "metadata": {},
   "outputs": [],
   "source": [
    "from sklearn.neighbors import KNeighborsClassifier\n",
    "knn = KNeighborsClassifier(n_neighbors = 7).fit(X_train, label_train)\n",
    "\n",
    "accuracy = knn.score(X_test, label_test)\n",
    "print(accuracy)\n",
    "\n",
    "knn_predictions=knn.predict(X_test)\n",
    "cm = confusion_matrix(label_test, knn_predictions)\n",
    "print(cm)"
   ]
  }
 ],
 "metadata": {
  "kernelspec": {
   "display_name": "ml",
   "language": "python",
   "name": "ml"
  },
  "language_info": {
   "codemirror_mode": {
    "name": "ipython",
    "version": 3
   },
   "file_extension": ".py",
   "mimetype": "text/x-python",
   "name": "python",
   "nbconvert_exporter": "python",
   "pygments_lexer": "ipython3",
   "version": "3.8.5"
  }
 },
 "nbformat": 4,
 "nbformat_minor": 4
}
